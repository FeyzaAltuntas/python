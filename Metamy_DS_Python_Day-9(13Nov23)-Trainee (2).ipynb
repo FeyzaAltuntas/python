{
 "cells": [
  {
   "attachments": {
    "Metamy%20Logo3.jpg": {
     "image/jpeg": "[encoded data removed]"
    }
   },
   "cell_type": "markdown",
   "id": "1a260b68",
   "metadata": {},
   "source": [
    "![Metamy%20Logo3.jpg](attachment:Metamy%20Logo3.jpg)"
   ]
  },
  {
   "cell_type": "markdown",
   "id": "a47f0eaa",
   "metadata": {},
   "source": [
    "# PYTHON BASICS (DAY 9)(13 Nov 23)"
   ]
  },
  {
   "cell_type": "markdown",
   "id": "d8911cad",
   "metadata": {},
   "source": [
    "## Functions"
   ]
  },
  {
   "cell_type": "markdown",
   "id": "8453575b",
   "metadata": {},
   "source": [
    "## Challenge_21 (Economic Freedom Rank)"
   ]
  },
  {
   "cell_type": "markdown",
   "id": "63d463e7",
   "metadata": {},
   "source": [
    "**Instructions**"
   ]
  },
  {
   "cell_type": "markdown",
   "id": "00d3816c",
   "metadata": {},
   "source": [
    "__You are working on data that represents the economic freedom rank by country.\n",
    "Each country name and rank are stored in a dictionary, with the key being the country name.__\n",
    "\n",
    "__Complete the program to take the country name as input and output its corresponding economic freedom rank.\n",
    "In case the provided country name is not present in the data, output \"Not found\".__"
   ]
  },
  {
   "cell_type": "markdown",
   "id": "fcf801ac",
   "metadata": {},
   "source": [
    "__Recall the get() method of a dictionary, that allows you to specify a default value.__<br>\n",
    "\n",
    "\n",
    "__Sample Input<br>\n",
    "Italy__<br><br>\n",
    "__Sample Output<br>\n",
    "74__"
   ]
  },
  {
   "cell_type": "markdown",
   "id": "220f66a3",
   "metadata": {},
   "source": [
    "### My solution:"
   ]
  },
  {
   "cell_type": "code",
   "execution_count": 7,
   "id": "d88370cf",
   "metadata": {
    "ExecuteTime": {
     "end_time": "2023-11-13T17:11:00.286378Z",
     "start_time": "2023-11-13T17:10:55.673855Z"
    }
   },
   "outputs": [
    {
     "name": "stdout",
     "output_type": "stream",
     "text": [
      "Please enter a country in data dictionary: germany\n"
     ]
    },
    {
     "data": {
      "text/plain": [
       "27"
      ]
     },
     "execution_count": 7,
     "metadata": {},
     "output_type": "execute_result"
    }
   ],
   "source": [
    "# Your code here\n",
    "data = {\n",
    "    'Singapore': 1,\n",
    "    'Ireland': 6,\n",
    "    'United Kingdom': 7,\n",
    "    'Germany': 27,\n",
    "    'Armenia': 34,\n",
    "    'United States': 17,\n",
    "    'Canada': 9,\n",
    "    'Italy': 74\n",
    "}     \n",
    "# please finalize the code \n",
    "\n",
    "country = input(\"Please enter a country in data dictionary: \")\n",
    "\n",
    "data.get(country.capitalize(), \"Not found\")"
   ]
  },
  {
   "cell_type": "code",
   "execution_count": null,
   "id": "4724b34b",
   "metadata": {},
   "outputs": [],
   "source": []
  },
  {
   "cell_type": "markdown",
   "id": "7d5d76ed",
   "metadata": {},
   "source": [
    "### Solution-2"
   ]
  },
  {
   "cell_type": "code",
   "execution_count": 33,
   "id": "5f5accbe",
   "metadata": {
    "ExecuteTime": {
     "end_time": "2023-11-13T18:03:02.928170Z",
     "start_time": "2023-11-13T18:03:02.908229Z"
    }
   },
   "outputs": [],
   "source": [
    "data = {\n",
    "    'Singapore': 1,\n",
    "    'Ireland': 6,\n",
    "    'United Kingdom': 7,\n",
    "    'Germany': 27,\n",
    "    'Armenia': 34,\n",
    "    'United States': 17,\n",
    "    'Canada': 9,\n",
    "    'Italy': 74\n",
    "}\n",
    "\n",
    "# please finalize the code \n",
    "\n",
    "\n"
   ]
  },
  {
   "cell_type": "code",
   "execution_count": 34,
   "id": "e780aa3b",
   "metadata": {
    "ExecuteTime": {
     "end_time": "2023-11-13T18:03:04.342137Z",
     "start_time": "2023-11-13T18:03:04.317581Z"
    }
   },
   "outputs": [],
   "source": [
    "def country() :\n",
    "    c = input(\"Enter a country: \")\n",
    "    if c.capitalize() in data :\n",
    "        return data[c] \n",
    "    \n",
    "    else :\n",
    "        return \"Not found\"\n",
    "    "
   ]
  },
  {
   "cell_type": "code",
   "execution_count": 31,
   "id": "dbb93df4",
   "metadata": {
    "ExecuteTime": {
     "end_time": "2023-11-13T18:02:26.389885Z",
     "start_time": "2023-11-13T18:02:22.043880Z"
    }
   },
   "outputs": [
    {
     "name": "stdout",
     "output_type": "stream",
     "text": [
      "Enter a country: Ankara\n"
     ]
    }
   ],
   "source": []
  },
  {
   "cell_type": "code",
   "execution_count": 35,
   "id": "448d690c",
   "metadata": {
    "ExecuteTime": {
     "end_time": "2023-11-13T18:03:28.436505Z",
     "start_time": "2023-11-13T18:03:20.891486Z"
    }
   },
   "outputs": [
    {
     "name": "stdout",
     "output_type": "stream",
     "text": [
      "Enter a country: Italy\n"
     ]
    },
    {
     "data": {
      "text/plain": [
       "74"
      ]
     },
     "execution_count": 35,
     "metadata": {},
     "output_type": "execute_result"
    }
   ],
   "source": [
    "country() "
   ]
  },
  {
   "cell_type": "code",
   "execution_count": 36,
   "id": "ecee8ab7",
   "metadata": {
    "ExecuteTime": {
     "end_time": "2023-11-13T18:03:55.900767Z",
     "start_time": "2023-11-13T18:03:38.813151Z"
    }
   },
   "outputs": [
    {
     "name": "stdout",
     "output_type": "stream",
     "text": [
      "Enter a country: Türkiye\n"
     ]
    },
    {
     "data": {
      "text/plain": [
       "'Not found'"
      ]
     },
     "execution_count": 36,
     "metadata": {},
     "output_type": "execute_result"
    }
   ],
   "source": [
    "country() "
   ]
  },
  {
   "cell_type": "code",
   "execution_count": null,
   "id": "cdf24893",
   "metadata": {},
   "outputs": [],
   "source": []
  },
  {
   "cell_type": "code",
   "execution_count": null,
   "id": "ae24d44e",
   "metadata": {},
   "outputs": [],
   "source": []
  },
  {
   "cell_type": "markdown",
   "id": "98db7576",
   "metadata": {},
   "source": [
    "### Challenge_24 (Palindrome Check)"
   ]
  },
  {
   "cell_type": "markdown",
   "id": "d3f652f3",
   "metadata": {},
   "source": [
    "**Instructions:**\n",
    "\n",
    "Write a Python function palindrome_check() that takes an input from the user and returns \"... is a palindrome\" if the string is a palindrome, or \"... is not a palindrome\" otherwise. A palindrome is a word that reads the same backward as forward.\n",
    "\n",
    "For example:\n",
    "\n",
    "\"radar\" is a palindrome<br>\n",
    "\"python\" is not a palindrome\n",
    "\n",
    "In function, create a loop that prompts the user to enter a word, check if the entered word is a palindrome, and prints an appropriate message.\n",
    "\n",
    "Your program should continue running until the user decides to exit.**"
   ]
  },
  {
   "cell_type": "markdown",
   "id": "0c815cda",
   "metadata": {},
   "source": [
    "**Solution**"
   ]
  },
  {
   "cell_type": "code",
   "execution_count": 37,
   "id": "ddb12640",
   "metadata": {
    "ExecuteTime": {
     "end_time": "2023-11-13T18:06:34.487618Z",
     "start_time": "2023-11-13T18:06:34.476671Z"
    }
   },
   "outputs": [],
   "source": [
    "def palindrome_check() :\n",
    "    \n",
    "    while True :\n",
    "        \n",
    "        user_input = input(\"Enter a word ( or 'exit' to quit ): \")\n",
    "        \n",
    "        if user_input.lower() == \"exit\":\n",
    "            break\n",
    "            \n",
    "        elif user_input.lower() == user_input.lower()[::-1]:\n",
    "            print(f\"{user_input} is a palindrome.\")\n",
    "            break \n",
    "            \n",
    "        else:\n",
    "            print(f\"{user_input} is not a palindrome.\")"
   ]
  },
  {
   "cell_type": "code",
   "execution_count": 38,
   "id": "f6e7f0a0",
   "metadata": {
    "ExecuteTime": {
     "end_time": "2023-11-13T18:07:42.755303Z",
     "start_time": "2023-11-13T18:06:56.982187Z"
    }
   },
   "outputs": [
    {
     "name": "stdout",
     "output_type": "stream",
     "text": [
      "Enter a word ( or 'exit' to quit ): Murat\n",
      "Murat is not a palindrome.\n",
      "Enter a word ( or 'exit' to quit ): Cemil\n",
      "Cemil is not a palindrome.\n",
      "Enter a word ( or 'exit' to quit ): Fatih\n",
      "Fatih is not a palindrome.\n",
      "Enter a word ( or 'exit' to quit ): Ali\n",
      "Ali is not a palindrome.\n",
      "Enter a word ( or 'exit' to quit ): Efe\n",
      "Efe is a palindrome.\n"
     ]
    }
   ],
   "source": [
    "palindrome_check() "
   ]
  },
  {
   "cell_type": "code",
   "execution_count": 19,
   "id": "238f1e87",
   "metadata": {
    "ExecuteTime": {
     "end_time": "2023-11-13T17:26:07.329839Z",
     "start_time": "2023-11-13T17:26:00.093887Z"
    }
   },
   "outputs": [
    {
     "name": "stdout",
     "output_type": "stream",
     "text": [
      "Enter a word ( or 'exit' to quit ): Radar\n",
      "Radar is a palindrome.\n"
     ]
    }
   ],
   "source": [
    "palindrome_check() "
   ]
  },
  {
   "cell_type": "code",
   "execution_count": 20,
   "id": "f2f5dc9e",
   "metadata": {
    "ExecuteTime": {
     "end_time": "2023-11-13T17:26:56.026309Z",
     "start_time": "2023-11-13T17:26:17.283162Z"
    }
   },
   "outputs": [
    {
     "name": "stdout",
     "output_type": "stream",
     "text": [
      "Enter a word ( or 'exit' to quit ): Python \n",
      "Python  is not a palindrome.\n",
      "Enter a word ( or 'exit' to quit ): Resim\n",
      "Resim is not a palindrome.\n",
      "Enter a word ( or 'exit' to quit ): Radar\n",
      "Radar is a palindrome.\n"
     ]
    }
   ],
   "source": [
    "palindrome_check()  "
   ]
  },
  {
   "cell_type": "code",
   "execution_count": 21,
   "id": "294fbcbf",
   "metadata": {
    "ExecuteTime": {
     "end_time": "2023-11-13T17:55:37.792481Z",
     "start_time": "2023-11-13T17:29:08.606926Z"
    }
   },
   "outputs": [
    {
     "ename": "KeyboardInterrupt",
     "evalue": "Interrupted by user",
     "output_type": "error",
     "traceback": [
      "\u001b[1;31m---------------------------------------------------------------------------\u001b[0m",
      "\u001b[1;31mKeyboardInterrupt\u001b[0m                         Traceback (most recent call last)",
      "Cell \u001b[1;32mIn[21], line 1\u001b[0m\n\u001b[1;32m----> 1\u001b[0m \u001b[43mpalindrome_check\u001b[49m\u001b[43m(\u001b[49m\u001b[43m)\u001b[49m\n",
      "Cell \u001b[1;32mIn[17], line 5\u001b[0m, in \u001b[0;36mpalindrome_check\u001b[1;34m()\u001b[0m\n\u001b[0;32m      1\u001b[0m \u001b[38;5;28;01mdef\u001b[39;00m \u001b[38;5;21mpalindrome_check\u001b[39m() :\n\u001b[0;32m      3\u001b[0m     \u001b[38;5;28;01mwhile\u001b[39;00m \u001b[38;5;28;01mTrue\u001b[39;00m :\n\u001b[1;32m----> 5\u001b[0m         user_input \u001b[38;5;241m=\u001b[39m \u001b[38;5;28;43minput\u001b[39;49m\u001b[43m(\u001b[49m\u001b[38;5;124;43m\"\u001b[39;49m\u001b[38;5;124;43mEnter a word ( or \u001b[39;49m\u001b[38;5;124;43m'\u001b[39;49m\u001b[38;5;124;43mexit\u001b[39;49m\u001b[38;5;124;43m'\u001b[39;49m\u001b[38;5;124;43m to quit ): \u001b[39;49m\u001b[38;5;124;43m\"\u001b[39;49m\u001b[43m)\u001b[49m\n\u001b[0;32m      7\u001b[0m         \u001b[38;5;28;01mif\u001b[39;00m user_input\u001b[38;5;241m.\u001b[39mlower() \u001b[38;5;241m==\u001b[39m \u001b[38;5;124m\"\u001b[39m\u001b[38;5;124mexit\u001b[39m\u001b[38;5;124m\"\u001b[39m:\n\u001b[0;32m      8\u001b[0m             \u001b[38;5;28;01mbreak\u001b[39;00m\n",
      "File \u001b[1;32m~\\anaconda3\\lib\\site-packages\\ipykernel\\kernelbase.py:1175\u001b[0m, in \u001b[0;36mKernel.raw_input\u001b[1;34m(self, prompt)\u001b[0m\n\u001b[0;32m   1171\u001b[0m \u001b[38;5;28;01mif\u001b[39;00m \u001b[38;5;129;01mnot\u001b[39;00m \u001b[38;5;28mself\u001b[39m\u001b[38;5;241m.\u001b[39m_allow_stdin:\n\u001b[0;32m   1172\u001b[0m     \u001b[38;5;28;01mraise\u001b[39;00m StdinNotImplementedError(\n\u001b[0;32m   1173\u001b[0m         \u001b[38;5;124m\"\u001b[39m\u001b[38;5;124mraw_input was called, but this frontend does not support input requests.\u001b[39m\u001b[38;5;124m\"\u001b[39m\n\u001b[0;32m   1174\u001b[0m     )\n\u001b[1;32m-> 1175\u001b[0m \u001b[38;5;28;01mreturn\u001b[39;00m \u001b[38;5;28;43mself\u001b[39;49m\u001b[38;5;241;43m.\u001b[39;49m\u001b[43m_input_request\u001b[49m\u001b[43m(\u001b[49m\n\u001b[0;32m   1176\u001b[0m \u001b[43m    \u001b[49m\u001b[38;5;28;43mstr\u001b[39;49m\u001b[43m(\u001b[49m\u001b[43mprompt\u001b[49m\u001b[43m)\u001b[49m\u001b[43m,\u001b[49m\n\u001b[0;32m   1177\u001b[0m \u001b[43m    \u001b[49m\u001b[38;5;28;43mself\u001b[39;49m\u001b[38;5;241;43m.\u001b[39;49m\u001b[43m_parent_ident\u001b[49m\u001b[43m[\u001b[49m\u001b[38;5;124;43m\"\u001b[39;49m\u001b[38;5;124;43mshell\u001b[39;49m\u001b[38;5;124;43m\"\u001b[39;49m\u001b[43m]\u001b[49m\u001b[43m,\u001b[49m\n\u001b[0;32m   1178\u001b[0m \u001b[43m    \u001b[49m\u001b[38;5;28;43mself\u001b[39;49m\u001b[38;5;241;43m.\u001b[39;49m\u001b[43mget_parent\u001b[49m\u001b[43m(\u001b[49m\u001b[38;5;124;43m\"\u001b[39;49m\u001b[38;5;124;43mshell\u001b[39;49m\u001b[38;5;124;43m\"\u001b[39;49m\u001b[43m)\u001b[49m\u001b[43m,\u001b[49m\n\u001b[0;32m   1179\u001b[0m \u001b[43m    \u001b[49m\u001b[43mpassword\u001b[49m\u001b[38;5;241;43m=\u001b[39;49m\u001b[38;5;28;43;01mFalse\u001b[39;49;00m\u001b[43m,\u001b[49m\n\u001b[0;32m   1180\u001b[0m \u001b[43m\u001b[49m\u001b[43m)\u001b[49m\n",
      "File \u001b[1;32m~\\anaconda3\\lib\\site-packages\\ipykernel\\kernelbase.py:1217\u001b[0m, in \u001b[0;36mKernel._input_request\u001b[1;34m(self, prompt, ident, parent, password)\u001b[0m\n\u001b[0;32m   1214\u001b[0m             \u001b[38;5;28;01mbreak\u001b[39;00m\n\u001b[0;32m   1215\u001b[0m \u001b[38;5;28;01mexcept\u001b[39;00m \u001b[38;5;167;01mKeyboardInterrupt\u001b[39;00m:\n\u001b[0;32m   1216\u001b[0m     \u001b[38;5;66;03m# re-raise KeyboardInterrupt, to truncate traceback\u001b[39;00m\n\u001b[1;32m-> 1217\u001b[0m     \u001b[38;5;28;01mraise\u001b[39;00m \u001b[38;5;167;01mKeyboardInterrupt\u001b[39;00m(\u001b[38;5;124m\"\u001b[39m\u001b[38;5;124mInterrupted by user\u001b[39m\u001b[38;5;124m\"\u001b[39m) \u001b[38;5;28;01mfrom\u001b[39;00m \u001b[38;5;28mNone\u001b[39m\n\u001b[0;32m   1218\u001b[0m \u001b[38;5;28;01mexcept\u001b[39;00m \u001b[38;5;167;01mException\u001b[39;00m:\n\u001b[0;32m   1219\u001b[0m     \u001b[38;5;28mself\u001b[39m\u001b[38;5;241m.\u001b[39mlog\u001b[38;5;241m.\u001b[39mwarning(\u001b[38;5;124m\"\u001b[39m\u001b[38;5;124mInvalid Message:\u001b[39m\u001b[38;5;124m\"\u001b[39m, exc_info\u001b[38;5;241m=\u001b[39m\u001b[38;5;28;01mTrue\u001b[39;00m)\n",
      "\u001b[1;31mKeyboardInterrupt\u001b[0m: Interrupted by user"
     ]
    }
   ],
   "source": [
    "palindrome_check() "
   ]
  },
  {
   "cell_type": "code",
   "execution_count": null,
   "id": "2f8c37ce",
   "metadata": {},
   "outputs": [],
   "source": []
  },
  {
   "cell_type": "code",
   "execution_count": null,
   "id": "5fbe6cf8",
   "metadata": {},
   "outputs": [],
   "source": []
  },
  {
   "cell_type": "code",
   "execution_count": null,
   "id": "731376e1",
   "metadata": {},
   "outputs": [],
   "source": []
  },
  {
   "cell_type": "markdown",
   "id": "91aad7e3",
   "metadata": {},
   "source": [
    "## Tuples\n",
    "\n",
    "In Python tuples are very similar to lists, however, unlike lists they are *immutable* meaning they can not be changed. You would use tuples to present things that shouldn't be changed, such as days of the week, or dates on a calendar. \n",
    "\n",
    "Most of the techniques and methods that you learned for using lists don’t work with tuples because they are used to modify something in a list, and a tuple can’t be modified. However, you can get the length of a tuple using len, like this:"
   ]
  },
  {
   "cell_type": "code",
   "execution_count": 39,
   "id": "4f4c9886",
   "metadata": {
    "ExecuteTime": {
     "end_time": "2023-11-13T18:12:05.795014Z",
     "start_time": "2023-11-13T18:12:05.787014Z"
    }
   },
   "outputs": [],
   "source": [
    "prices = (29.95, 9.98, 4.95, 79.98, 2.95)"
   ]
  },
  {
   "cell_type": "code",
   "execution_count": 40,
   "id": "d7a1d63e",
   "metadata": {
    "ExecuteTime": {
     "end_time": "2023-11-13T18:12:17.251997Z",
     "start_time": "2023-11-13T18:12:17.234341Z"
    }
   },
   "outputs": [
    {
     "data": {
      "text/plain": [
       "tuple"
      ]
     },
     "execution_count": 40,
     "metadata": {},
     "output_type": "execute_result"
    }
   ],
   "source": [
    "type(prices) "
   ]
  },
  {
   "cell_type": "code",
   "execution_count": 41,
   "id": "67e8ca86",
   "metadata": {
    "ExecuteTime": {
     "end_time": "2023-11-13T18:12:38.852381Z",
     "start_time": "2023-11-13T18:12:38.833588Z"
    }
   },
   "outputs": [
    {
     "data": {
      "text/plain": [
       "5"
      ]
     },
     "execution_count": 41,
     "metadata": {},
     "output_type": "execute_result"
    }
   ],
   "source": [
    "len(prices) "
   ]
  },
  {
   "cell_type": "code",
   "execution_count": 42,
   "id": "2c9e1843",
   "metadata": {
    "ExecuteTime": {
     "end_time": "2023-11-13T18:12:57.850113Z",
     "start_time": "2023-11-13T18:12:57.837916Z"
    }
   },
   "outputs": [
    {
     "data": {
      "text/plain": [
       "True"
      ]
     },
     "execution_count": 42,
     "metadata": {},
     "output_type": "execute_result"
    }
   ],
   "source": [
    "4.95 in prices "
   ]
  },
  {
   "cell_type": "code",
   "execution_count": 43,
   "id": "29832a87",
   "metadata": {
    "ExecuteTime": {
     "end_time": "2023-11-13T18:13:19.647625Z",
     "start_time": "2023-11-13T18:13:19.634100Z"
    }
   },
   "outputs": [
    {
     "data": {
      "text/plain": [
       "False"
      ]
     },
     "execution_count": 43,
     "metadata": {},
     "output_type": "execute_result"
    }
   ],
   "source": [
    "4.99 in prices "
   ]
  },
  {
   "cell_type": "code",
   "execution_count": 45,
   "id": "7c97de56",
   "metadata": {
    "ExecuteTime": {
     "end_time": "2023-11-13T18:15:19.888381Z",
     "start_time": "2023-11-13T18:15:19.871324Z"
    }
   },
   "outputs": [
    {
     "name": "stdout",
     "output_type": "stream",
     "text": [
      "29.95\n",
      "9.98\n",
      "4.95\n",
      "79.98\n",
      "2.95\n"
     ]
    }
   ],
   "source": [
    "for i in prices :\n",
    "    print(i) "
   ]
  },
  {
   "cell_type": "code",
   "execution_count": null,
   "id": "753afb7f",
   "metadata": {},
   "outputs": [],
   "source": []
  },
  {
   "cell_type": "markdown",
   "id": "e3daa71e",
   "metadata": {},
   "source": [
    "### Constructing Tuples\n",
    "\n",
    "The construction of a tuples use () with elements separated by commas. For example:"
   ]
  },
  {
   "cell_type": "markdown",
   "id": "ab2edaf1",
   "metadata": {},
   "source": [
    "https://docs.python.org/3/tutorial/datastructures.html#tuples-and-sequences"
   ]
  },
  {
   "cell_type": "code",
   "execution_count": 46,
   "id": "31272a2f",
   "metadata": {
    "ExecuteTime": {
     "end_time": "2023-11-13T18:16:04.292037Z",
     "start_time": "2023-11-13T18:16:04.274097Z"
    }
   },
   "outputs": [],
   "source": [
    "# Create a tuple\n",
    "t = (1,2,3)"
   ]
  },
  {
   "cell_type": "code",
   "execution_count": 47,
   "id": "de0d4219",
   "metadata": {
    "ExecuteTime": {
     "end_time": "2023-11-13T18:16:14.392762Z",
     "start_time": "2023-11-13T18:16:14.383071Z"
    }
   },
   "outputs": [
    {
     "data": {
      "text/plain": [
       "3"
      ]
     },
     "execution_count": 47,
     "metadata": {},
     "output_type": "execute_result"
    }
   ],
   "source": [
    "len(t) "
   ]
  },
  {
   "cell_type": "code",
   "execution_count": 48,
   "id": "8b67af21",
   "metadata": {
    "ExecuteTime": {
     "end_time": "2023-11-13T18:16:30.989226Z",
     "start_time": "2023-11-13T18:16:30.966093Z"
    }
   },
   "outputs": [
    {
     "data": {
      "text/plain": [
       "('one', 2)"
      ]
     },
     "execution_count": 48,
     "metadata": {},
     "output_type": "execute_result"
    }
   ],
   "source": [
    "# Can also mix object types\n",
    "t = ('one', 2)\n",
    "\n",
    "# Show\n",
    "t"
   ]
  },
  {
   "cell_type": "code",
   "execution_count": 49,
   "id": "8e084c4c",
   "metadata": {
    "ExecuteTime": {
     "end_time": "2023-11-13T18:17:01.050200Z",
     "start_time": "2023-11-13T18:17:01.045660Z"
    }
   },
   "outputs": [],
   "source": [
    "t = 'one', 2"
   ]
  },
  {
   "cell_type": "code",
   "execution_count": 50,
   "id": "448115a6",
   "metadata": {
    "ExecuteTime": {
     "end_time": "2023-11-13T18:17:04.757280Z",
     "start_time": "2023-11-13T18:17:04.737174Z"
    }
   },
   "outputs": [
    {
     "data": {
      "text/plain": [
       "('one', 2)"
      ]
     },
     "execution_count": 50,
     "metadata": {},
     "output_type": "execute_result"
    }
   ],
   "source": [
    "t "
   ]
  },
  {
   "cell_type": "code",
   "execution_count": 51,
   "id": "21850ef9",
   "metadata": {
    "ExecuteTime": {
     "end_time": "2023-11-13T18:17:17.082467Z",
     "start_time": "2023-11-13T18:17:17.068509Z"
    }
   },
   "outputs": [
    {
     "data": {
      "text/plain": [
       "tuple"
      ]
     },
     "execution_count": 51,
     "metadata": {},
     "output_type": "execute_result"
    }
   ],
   "source": [
    "type(t) "
   ]
  },
  {
   "cell_type": "code",
   "execution_count": 52,
   "id": "a0ed244b",
   "metadata": {
    "ExecuteTime": {
     "end_time": "2023-11-13T18:18:37.055821Z",
     "start_time": "2023-11-13T18:18:37.036433Z"
    }
   },
   "outputs": [],
   "source": [
    "t = \"one\","
   ]
  },
  {
   "cell_type": "code",
   "execution_count": 53,
   "id": "c138e45a",
   "metadata": {
    "ExecuteTime": {
     "end_time": "2023-11-13T18:18:40.379802Z",
     "start_time": "2023-11-13T18:18:40.372820Z"
    }
   },
   "outputs": [
    {
     "data": {
      "text/plain": [
       "('one',)"
      ]
     },
     "execution_count": 53,
     "metadata": {},
     "output_type": "execute_result"
    }
   ],
   "source": [
    "t "
   ]
  },
  {
   "cell_type": "code",
   "execution_count": 54,
   "id": "a90bbf58",
   "metadata": {
    "ExecuteTime": {
     "end_time": "2023-11-13T18:19:09.746776Z",
     "start_time": "2023-11-13T18:19:09.733671Z"
    }
   },
   "outputs": [
    {
     "data": {
      "text/plain": [
       "tuple"
      ]
     },
     "execution_count": 54,
     "metadata": {},
     "output_type": "execute_result"
    }
   ],
   "source": [
    "type(t) "
   ]
  },
  {
   "cell_type": "code",
   "execution_count": 55,
   "id": "6c9103b3",
   "metadata": {
    "ExecuteTime": {
     "end_time": "2023-11-13T18:19:32.896110Z",
     "start_time": "2023-11-13T18:19:32.878617Z"
    }
   },
   "outputs": [],
   "source": [
    "t = (1,2,3) "
   ]
  },
  {
   "cell_type": "code",
   "execution_count": 56,
   "id": "b87b1c71",
   "metadata": {
    "ExecuteTime": {
     "end_time": "2023-11-13T18:19:41.774304Z",
     "start_time": "2023-11-13T18:19:41.760783Z"
    }
   },
   "outputs": [
    {
     "data": {
      "text/plain": [
       "1"
      ]
     },
     "execution_count": 56,
     "metadata": {},
     "output_type": "execute_result"
    }
   ],
   "source": [
    "# Use indexing just like we did in lists\n",
    "t[0] "
   ]
  },
  {
   "cell_type": "code",
   "execution_count": 57,
   "id": "1bce7203",
   "metadata": {
    "ExecuteTime": {
     "end_time": "2023-11-13T18:19:54.607331Z",
     "start_time": "2023-11-13T18:19:54.600837Z"
    }
   },
   "outputs": [
    {
     "data": {
      "text/plain": [
       "2"
      ]
     },
     "execution_count": 57,
     "metadata": {},
     "output_type": "execute_result"
    }
   ],
   "source": [
    "t[1] "
   ]
  },
  {
   "cell_type": "code",
   "execution_count": null,
   "id": "f0ef770f",
   "metadata": {},
   "outputs": [],
   "source": [
    "t."
   ]
  },
  {
   "cell_type": "markdown",
   "id": "96c13657",
   "metadata": {},
   "source": [
    "### Basic Tuple Methods\n",
    "\n",
    "Tuples have built-in methods, but not as many as lists do. Let's look at two of them:"
   ]
  },
  {
   "cell_type": "code",
   "execution_count": 58,
   "id": "e1941564",
   "metadata": {
    "ExecuteTime": {
     "end_time": "2023-11-13T18:20:52.653797Z",
     "start_time": "2023-11-13T18:20:52.635445Z"
    }
   },
   "outputs": [
    {
     "data": {
      "text/plain": [
       "2"
      ]
     },
     "execution_count": 58,
     "metadata": {},
     "output_type": "execute_result"
    }
   ],
   "source": [
    "# Use .index to enter a value and return the index\n",
    "t.index(3)"
   ]
  },
  {
   "cell_type": "code",
   "execution_count": 59,
   "id": "f040c1ae",
   "metadata": {
    "ExecuteTime": {
     "end_time": "2023-11-13T18:21:18.538291Z",
     "start_time": "2023-11-13T18:21:18.531168Z"
    }
   },
   "outputs": [
    {
     "data": {
      "text/plain": [
       "0"
      ]
     },
     "execution_count": 59,
     "metadata": {},
     "output_type": "execute_result"
    }
   ],
   "source": [
    "t.index(1) "
   ]
  },
  {
   "cell_type": "code",
   "execution_count": 60,
   "id": "d93f28bf",
   "metadata": {
    "ExecuteTime": {
     "end_time": "2023-11-13T18:21:39.849508Z",
     "start_time": "2023-11-13T18:21:39.840622Z"
    }
   },
   "outputs": [
    {
     "data": {
      "text/plain": [
       "1"
      ]
     },
     "execution_count": 60,
     "metadata": {},
     "output_type": "execute_result"
    }
   ],
   "source": [
    "# Use .count to count the number of times a value appears\n",
    "t.count(2) "
   ]
  },
  {
   "cell_type": "markdown",
   "id": "bbf143b0",
   "metadata": {},
   "source": [
    "### Immutability\n",
    "\n",
    "It can't be stressed enough that tuples are immutable. To drive that point home:"
   ]
  },
  {
   "cell_type": "code",
   "execution_count": 61,
   "id": "fbe53bf9",
   "metadata": {
    "ExecuteTime": {
     "end_time": "2023-11-13T18:21:59.441234Z",
     "start_time": "2023-11-13T18:21:59.418540Z"
    }
   },
   "outputs": [
    {
     "data": {
      "text/plain": [
       "1"
      ]
     },
     "execution_count": 61,
     "metadata": {},
     "output_type": "execute_result"
    }
   ],
   "source": [
    "t[0] "
   ]
  },
  {
   "cell_type": "code",
   "execution_count": 62,
   "id": "56294a66",
   "metadata": {
    "ExecuteTime": {
     "end_time": "2023-11-13T18:22:14.908808Z",
     "start_time": "2023-11-13T18:22:14.861608Z"
    }
   },
   "outputs": [
    {
     "ename": "TypeError",
     "evalue": "'tuple' object does not support item assignment",
     "output_type": "error",
     "traceback": [
      "\u001b[1;31m---------------------------------------------------------------------------\u001b[0m",
      "\u001b[1;31mTypeError\u001b[0m                                 Traceback (most recent call last)",
      "Cell \u001b[1;32mIn[62], line 1\u001b[0m\n\u001b[1;32m----> 1\u001b[0m t[\u001b[38;5;241m0\u001b[39m] \u001b[38;5;241m=\u001b[39m \u001b[38;5;241m9\u001b[39m\n",
      "\u001b[1;31mTypeError\u001b[0m: 'tuple' object does not support item assignment"
     ]
    }
   ],
   "source": [
    "t[0] = 9 "
   ]
  },
  {
   "cell_type": "markdown",
   "id": "7c25e1a9",
   "metadata": {},
   "source": [
    "Because of this immutability, tuples can't grow. Once a tuple is made we can not add to it."
   ]
  },
  {
   "cell_type": "code",
   "execution_count": 63,
   "id": "0811778a",
   "metadata": {
    "ExecuteTime": {
     "end_time": "2023-11-13T18:22:46.585410Z",
     "start_time": "2023-11-13T18:22:46.563406Z"
    }
   },
   "outputs": [
    {
     "ename": "AttributeError",
     "evalue": "'tuple' object has no attribute 'append'",
     "output_type": "error",
     "traceback": [
      "\u001b[1;31m---------------------------------------------------------------------------\u001b[0m",
      "\u001b[1;31mAttributeError\u001b[0m                            Traceback (most recent call last)",
      "Cell \u001b[1;32mIn[63], line 1\u001b[0m\n\u001b[1;32m----> 1\u001b[0m \u001b[43mt\u001b[49m\u001b[38;5;241;43m.\u001b[39;49m\u001b[43mappend\u001b[49m(\u001b[38;5;241m4\u001b[39m)\n",
      "\u001b[1;31mAttributeError\u001b[0m: 'tuple' object has no attribute 'append'"
     ]
    }
   ],
   "source": [
    "t.append(4) "
   ]
  },
  {
   "cell_type": "markdown",
   "id": "0913ee68",
   "metadata": {},
   "source": [
    "Any method that **alters**, or even just **copies**, data in a list causes an **error** when you try it with a tuple. So the list methods .append(), .clear(), .copy(), .extend(), .insert(), .pop(), .remove(), .reverse(), and .sort() would fail when working with tuples. In short, **a tuple makes sense if you want to show data to users without giving them any means to change any of the information.**"
   ]
  },
  {
   "cell_type": "markdown",
   "id": "a6fc6e62",
   "metadata": {},
   "source": [
    "### When to use Tuples\n",
    "\n",
    "You may be wondering, \"Why bother using tuples when they have fewer available methods?\" To be honest, tuples are not used as often as lists in programming, but are used when immutability is necessary. If in your program you are passing around an object and need to make sure it does not get changed, then a tuple becomes your solution. It provides a convenient source of data integrity.\n",
    "\n",
    "You should now be able to create and use tuples in your programming as well as have an understanding of their immutability.\n"
   ]
  },
  {
   "cell_type": "code",
   "execution_count": 64,
   "id": "af269d9d",
   "metadata": {
    "ExecuteTime": {
     "end_time": "2023-11-13T18:23:47.776644Z",
     "start_time": "2023-11-13T18:23:47.755597Z"
    }
   },
   "outputs": [],
   "source": [
    "empty_tuple = ()"
   ]
  },
  {
   "cell_type": "code",
   "execution_count": 65,
   "id": "47582101",
   "metadata": {
    "ExecuteTime": {
     "end_time": "2023-11-13T18:23:48.506963Z",
     "start_time": "2023-11-13T18:23:48.495477Z"
    }
   },
   "outputs": [
    {
     "data": {
      "text/plain": [
       "()"
      ]
     },
     "execution_count": 65,
     "metadata": {},
     "output_type": "execute_result"
    }
   ],
   "source": [
    "empty_tuple"
   ]
  },
  {
   "cell_type": "code",
   "execution_count": null,
   "id": "7572cae0",
   "metadata": {},
   "outputs": [],
   "source": []
  },
  {
   "cell_type": "markdown",
   "id": "8eb4b4a2",
   "metadata": {},
   "source": [
    "### Sets\n",
    "Python also offers sets as a means of organizing data. The difference between a set and a list is that the **items in a set have no specific order**. Even though you may\n",
    "define the set with the items in a certain order, none of the items get index numbers to identify their position.\n",
    "\n",
    "\n",
    "Sets are an unordered collection of *unique* elements. We can construct them by using the set() function. Let's go ahead and make a set to see how it works"
   ]
  },
  {
   "cell_type": "markdown",
   "id": "f40302d8",
   "metadata": {},
   "source": [
    "To define a set, use **curly braces** where you use square brackets for a list and parentheses for a tuple. For example, here’s a set with some numbers in it:"
   ]
  },
  {
   "cell_type": "code",
   "execution_count": 66,
   "id": "ea589494",
   "metadata": {
    "ExecuteTime": {
     "end_time": "2023-11-13T18:25:25.956123Z",
     "start_time": "2023-11-13T18:25:25.943700Z"
    }
   },
   "outputs": [],
   "source": [
    "sample_set = {1.98, 98.9, 74.95, 2.5, 1, 16.3}"
   ]
  },
  {
   "cell_type": "code",
   "execution_count": 68,
   "id": "622ce8fe",
   "metadata": {
    "ExecuteTime": {
     "end_time": "2023-11-13T18:26:31.353884Z",
     "start_time": "2023-11-13T18:26:31.336556Z"
    }
   },
   "outputs": [
    {
     "data": {
      "text/plain": [
       "set"
      ]
     },
     "execution_count": 68,
     "metadata": {},
     "output_type": "execute_result"
    }
   ],
   "source": [
    "type(sample_set) "
   ]
  },
  {
   "cell_type": "code",
   "execution_count": 69,
   "id": "a94485f5",
   "metadata": {
    "ExecuteTime": {
     "end_time": "2023-11-13T18:28:55.235337Z",
     "start_time": "2023-11-13T18:28:55.215380Z"
    }
   },
   "outputs": [
    {
     "data": {
      "text/plain": [
       "{1, 1.98, 2.5, 16.3, 74.95, 98.9}"
      ]
     },
     "execution_count": 69,
     "metadata": {},
     "output_type": "execute_result"
    }
   ],
   "source": [
    "sample_set"
   ]
  },
  {
   "cell_type": "code",
   "execution_count": 70,
   "id": "550837eb",
   "metadata": {
    "ExecuteTime": {
     "end_time": "2023-11-13T18:29:07.388503Z",
     "start_time": "2023-11-13T18:29:07.370354Z"
    }
   },
   "outputs": [
    {
     "data": {
      "text/plain": [
       "[16.3, 1.98, 98.9, 2.5, 1, 74.95]"
      ]
     },
     "execution_count": 70,
     "metadata": {},
     "output_type": "execute_result"
    }
   ],
   "source": [
    "list(sample_set)"
   ]
  },
  {
   "cell_type": "code",
   "execution_count": 67,
   "id": "52f0ca6a",
   "metadata": {
    "ExecuteTime": {
     "end_time": "2023-11-13T18:25:38.338260Z",
     "start_time": "2023-11-13T18:25:38.309262Z"
    }
   },
   "outputs": [
    {
     "ename": "TypeError",
     "evalue": "'set' object is not subscriptable",
     "output_type": "error",
     "traceback": [
      "\u001b[1;31m---------------------------------------------------------------------------\u001b[0m",
      "\u001b[1;31mTypeError\u001b[0m                                 Traceback (most recent call last)",
      "Cell \u001b[1;32mIn[67], line 1\u001b[0m\n\u001b[1;32m----> 1\u001b[0m \u001b[43msample_set\u001b[49m\u001b[43m[\u001b[49m\u001b[38;5;241;43m0\u001b[39;49m\u001b[43m]\u001b[49m\n",
      "\u001b[1;31mTypeError\u001b[0m: 'set' object is not subscriptable"
     ]
    }
   ],
   "source": [
    " sample_set[0] "
   ]
  },
  {
   "cell_type": "markdown",
   "id": "5a4507b3",
   "metadata": {},
   "source": [
    "Sets are similar to lists and tuples in a few ways. You can use **len()** to determine how many items are in a set. Use **in** to determine whether an item is in a set."
   ]
  },
  {
   "cell_type": "code",
   "execution_count": 71,
   "id": "64965f62",
   "metadata": {
    "ExecuteTime": {
     "end_time": "2023-11-13T18:29:27.878521Z",
     "start_time": "2023-11-13T18:29:27.862186Z"
    }
   },
   "outputs": [
    {
     "data": {
      "text/plain": [
       "6"
      ]
     },
     "execution_count": 71,
     "metadata": {},
     "output_type": "execute_result"
    }
   ],
   "source": [
    "len(sample_set)"
   ]
  },
  {
   "cell_type": "code",
   "execution_count": 72,
   "id": "3cd432b7",
   "metadata": {
    "ExecuteTime": {
     "end_time": "2023-11-13T18:29:41.921474Z",
     "start_time": "2023-11-13T18:29:41.901575Z"
    }
   },
   "outputs": [
    {
     "data": {
      "text/plain": [
       "True"
      ]
     },
     "execution_count": 72,
     "metadata": {},
     "output_type": "execute_result"
    }
   ],
   "source": [
    "1 in sample_set "
   ]
  },
  {
   "cell_type": "code",
   "execution_count": 73,
   "id": "f0f91808",
   "metadata": {
    "ExecuteTime": {
     "end_time": "2023-11-13T18:29:54.501948Z",
     "start_time": "2023-11-13T18:29:54.488468Z"
    }
   },
   "outputs": [
    {
     "data": {
      "text/plain": [
       "False"
      ]
     },
     "execution_count": 73,
     "metadata": {},
     "output_type": "execute_result"
    }
   ],
   "source": [
    "2 in sample_set"
   ]
  },
  {
   "cell_type": "markdown",
   "id": "73accd94",
   "metadata": {},
   "source": [
    "But you can’t get an item in a set based on its index number. Nor can you change an item already in the set. You can’t change the order of items in a set either.\n",
    "So you can’t use **.sort()** to sort the set or **.reverse()** to reverse its order."
   ]
  },
  {
   "cell_type": "code",
   "execution_count": 74,
   "id": "b2ffb2e6",
   "metadata": {
    "ExecuteTime": {
     "end_time": "2023-11-13T18:30:09.155336Z",
     "start_time": "2023-11-13T18:30:09.117127Z"
    }
   },
   "outputs": [
    {
     "ename": "TypeError",
     "evalue": "'set' object is not subscriptable",
     "output_type": "error",
     "traceback": [
      "\u001b[1;31m---------------------------------------------------------------------------\u001b[0m",
      "\u001b[1;31mTypeError\u001b[0m                                 Traceback (most recent call last)",
      "Cell \u001b[1;32mIn[74], line 1\u001b[0m\n\u001b[1;32m----> 1\u001b[0m \u001b[43msample_set\u001b[49m\u001b[43m[\u001b[49m\u001b[38;5;241;43m-\u001b[39;49m\u001b[38;5;241;43m1\u001b[39;49m\u001b[43m]\u001b[49m\n",
      "\u001b[1;31mTypeError\u001b[0m: 'set' object is not subscriptable"
     ]
    }
   ],
   "source": [
    "sample_set[-1] "
   ]
  },
  {
   "cell_type": "code",
   "execution_count": 75,
   "id": "c218befd",
   "metadata": {
    "ExecuteTime": {
     "end_time": "2023-11-13T18:30:53.473784Z",
     "start_time": "2023-11-13T18:30:53.431324Z"
    }
   },
   "outputs": [
    {
     "ename": "AttributeError",
     "evalue": "'set' object has no attribute 'sort'",
     "output_type": "error",
     "traceback": [
      "\u001b[1;31m---------------------------------------------------------------------------\u001b[0m",
      "\u001b[1;31mAttributeError\u001b[0m                            Traceback (most recent call last)",
      "Cell \u001b[1;32mIn[75], line 1\u001b[0m\n\u001b[1;32m----> 1\u001b[0m \u001b[43msample_set\u001b[49m\u001b[38;5;241;43m.\u001b[39;49m\u001b[43msort\u001b[49m()\n",
      "\u001b[1;31mAttributeError\u001b[0m: 'set' object has no attribute 'sort'"
     ]
    }
   ],
   "source": [
    "sample_set.sort() "
   ]
  },
  {
   "cell_type": "code",
   "execution_count": null,
   "id": "21de15e4",
   "metadata": {},
   "outputs": [],
   "source": []
  },
  {
   "cell_type": "code",
   "execution_count": 79,
   "id": "2fa71eed",
   "metadata": {
    "ExecuteTime": {
     "end_time": "2023-11-13T18:31:57.907255Z",
     "start_time": "2023-11-13T18:31:57.895742Z"
    }
   },
   "outputs": [],
   "source": [
    "x = set()"
   ]
  },
  {
   "cell_type": "code",
   "execution_count": 80,
   "id": "23b26e39",
   "metadata": {
    "ExecuteTime": {
     "end_time": "2023-11-13T18:31:58.499551Z",
     "start_time": "2023-11-13T18:31:58.481539Z"
    }
   },
   "outputs": [
    {
     "data": {
      "text/plain": [
       "set()"
      ]
     },
     "execution_count": 80,
     "metadata": {},
     "output_type": "execute_result"
    }
   ],
   "source": [
    "x "
   ]
  },
  {
   "cell_type": "code",
   "execution_count": 81,
   "id": "bfe241de",
   "metadata": {
    "ExecuteTime": {
     "end_time": "2023-11-13T18:31:59.397607Z",
     "start_time": "2023-11-13T18:31:59.382624Z"
    }
   },
   "outputs": [],
   "source": [
    "y = {}"
   ]
  },
  {
   "cell_type": "code",
   "execution_count": 84,
   "id": "2f2a3c55",
   "metadata": {
    "ExecuteTime": {
     "end_time": "2023-11-13T18:33:01.050696Z",
     "start_time": "2023-11-13T18:33:01.030685Z"
    }
   },
   "outputs": [
    {
     "name": "stdout",
     "output_type": "stream",
     "text": [
      "<class 'set'> <class 'dict'>\n"
     ]
    }
   ],
   "source": [
    "print(type(x), type(y))  "
   ]
  },
  {
   "cell_type": "code",
   "execution_count": 85,
   "id": "90dc4e11",
   "metadata": {
    "ExecuteTime": {
     "end_time": "2023-11-13T18:33:28.495419Z",
     "start_time": "2023-11-13T18:33:28.472961Z"
    }
   },
   "outputs": [],
   "source": [
    "# We add to sets with the add() method\n",
    "x.add(1) "
   ]
  },
  {
   "cell_type": "code",
   "execution_count": 86,
   "id": "be2702a8",
   "metadata": {
    "ExecuteTime": {
     "end_time": "2023-11-13T18:33:32.077672Z",
     "start_time": "2023-11-13T18:33:32.066688Z"
    }
   },
   "outputs": [
    {
     "data": {
      "text/plain": [
       "{1}"
      ]
     },
     "execution_count": 86,
     "metadata": {},
     "output_type": "execute_result"
    }
   ],
   "source": [
    "x "
   ]
  },
  {
   "cell_type": "code",
   "execution_count": 87,
   "id": "e50b387a",
   "metadata": {
    "ExecuteTime": {
     "end_time": "2023-11-13T18:33:42.449335Z",
     "start_time": "2023-11-13T18:33:42.432722Z"
    }
   },
   "outputs": [],
   "source": [
    "x.add(2) "
   ]
  },
  {
   "cell_type": "code",
   "execution_count": 88,
   "id": "418e8989",
   "metadata": {
    "ExecuteTime": {
     "end_time": "2023-11-13T18:33:45.597029Z",
     "start_time": "2023-11-13T18:33:45.588109Z"
    }
   },
   "outputs": [
    {
     "data": {
      "text/plain": [
       "{1, 2}"
      ]
     },
     "execution_count": 88,
     "metadata": {},
     "output_type": "execute_result"
    }
   ],
   "source": [
    "x "
   ]
  },
  {
   "cell_type": "code",
   "execution_count": 89,
   "id": "65503468",
   "metadata": {
    "ExecuteTime": {
     "end_time": "2023-11-13T18:33:57.974813Z",
     "start_time": "2023-11-13T18:33:57.968061Z"
    }
   },
   "outputs": [],
   "source": [
    "x.add(1) "
   ]
  },
  {
   "cell_type": "code",
   "execution_count": 90,
   "id": "bbfe87ce",
   "metadata": {
    "ExecuteTime": {
     "end_time": "2023-11-13T18:34:01.836560Z",
     "start_time": "2023-11-13T18:34:01.823518Z"
    }
   },
   "outputs": [
    {
     "data": {
      "text/plain": [
       "{1, 2}"
      ]
     },
     "execution_count": 90,
     "metadata": {},
     "output_type": "execute_result"
    }
   ],
   "source": [
    "x "
   ]
  },
  {
   "cell_type": "markdown",
   "id": "b2dc1e09",
   "metadata": {},
   "source": [
    "Note the curly brackets. This does not indicate a dictionary! Although you can draw analogies as a set being a dictionary with only keys.\n",
    "\n",
    "We know that a set has only unique entries. So what happens when we try to add something that is already in a set?"
   ]
  },
  {
   "cell_type": "markdown",
   "id": "9d65866a",
   "metadata": {},
   "source": [
    "Notice how it won't place another 1 there. That's because a set is only concerned with unique elements! We can cast a list with multiple repeat elements to a set to get the unique elements. For example:"
   ]
  },
  {
   "cell_type": "code",
   "execution_count": 91,
   "id": "4e4b4eab",
   "metadata": {
    "ExecuteTime": {
     "end_time": "2023-11-13T18:35:23.488740Z",
     "start_time": "2023-11-13T18:35:23.473582Z"
    },
    "scrolled": true
   },
   "outputs": [
    {
     "data": {
      "text/plain": [
       "{1, 2, 3, 4, 5, 6}"
      ]
     },
     "execution_count": 91,
     "metadata": {},
     "output_type": "execute_result"
    }
   ],
   "source": [
    "# Create a list with repeats\n",
    "list1 = [1,1,2,2,3,4,5,6,1,1]\n",
    "\n",
    "# Cast as set to get unique values\n",
    "set(list1) "
   ]
  },
  {
   "cell_type": "markdown",
   "id": "9e05ee86",
   "metadata": {},
   "source": [
    "You can also add multiple items to a set using **.update()**. But the items you’re adding **should be defined as a list in square brackets**, as in the following example:"
   ]
  },
  {
   "cell_type": "code",
   "execution_count": 92,
   "id": "fe6691fc",
   "metadata": {
    "ExecuteTime": {
     "end_time": "2023-11-13T18:36:06.316668Z",
     "start_time": "2023-11-13T18:36:06.263631Z"
    }
   },
   "outputs": [
    {
     "ename": "TypeError",
     "evalue": "'int' object is not iterable",
     "output_type": "error",
     "traceback": [
      "\u001b[1;31m---------------------------------------------------------------------------\u001b[0m",
      "\u001b[1;31mTypeError\u001b[0m                                 Traceback (most recent call last)",
      "Cell \u001b[1;32mIn[92], line 1\u001b[0m\n\u001b[1;32m----> 1\u001b[0m \u001b[43msample_set\u001b[49m\u001b[38;5;241;43m.\u001b[39;49m\u001b[43mupdate\u001b[49m\u001b[43m(\u001b[49m\u001b[38;5;241;43m88\u001b[39;49m\u001b[43m,\u001b[49m\u001b[43m \u001b[49m\u001b[38;5;241;43m122\u001b[39;49m\u001b[43m)\u001b[49m\n",
      "\u001b[1;31mTypeError\u001b[0m: 'int' object is not iterable"
     ]
    }
   ],
   "source": [
    "sample_set.update(88, 122) "
   ]
  },
  {
   "cell_type": "code",
   "execution_count": 93,
   "id": "579c5f41",
   "metadata": {
    "ExecuteTime": {
     "end_time": "2023-11-13T18:36:24.603513Z",
     "start_time": "2023-11-13T18:36:24.583482Z"
    }
   },
   "outputs": [],
   "source": [
    "sample_set.update([88, 122]) "
   ]
  },
  {
   "cell_type": "code",
   "execution_count": 94,
   "id": "dfc7d61a",
   "metadata": {
    "ExecuteTime": {
     "end_time": "2023-11-13T18:36:29.297628Z",
     "start_time": "2023-11-13T18:36:29.275914Z"
    }
   },
   "outputs": [
    {
     "data": {
      "text/plain": [
       "{1, 1.98, 2.5, 16.3, 74.95, 88, 98.9, 122}"
      ]
     },
     "execution_count": 94,
     "metadata": {},
     "output_type": "execute_result"
    }
   ],
   "source": [
    "sample_set "
   ]
  },
  {
   "cell_type": "code",
   "execution_count": 95,
   "id": "8b095b1d",
   "metadata": {
    "ExecuteTime": {
     "end_time": "2023-11-13T18:37:47.242313Z",
     "start_time": "2023-11-13T18:37:47.229820Z"
    }
   },
   "outputs": [],
   "source": [
    "set1 = {12, 3, 5, 15, 13, 4} "
   ]
  },
  {
   "cell_type": "code",
   "execution_count": 96,
   "id": "0d22ae37",
   "metadata": {
    "ExecuteTime": {
     "end_time": "2023-11-13T18:37:55.053022Z",
     "start_time": "2023-11-13T18:37:55.033974Z"
    }
   },
   "outputs": [
    {
     "data": {
      "text/plain": [
       "{3, 4, 5, 12, 13, 15}"
      ]
     },
     "execution_count": 96,
     "metadata": {},
     "output_type": "execute_result"
    }
   ],
   "source": [
    "set1 "
   ]
  },
  {
   "cell_type": "code",
   "execution_count": null,
   "id": "72d1f37a",
   "metadata": {
    "ExecuteTime": {
     "end_time": "2023-11-13T15:13:07.980222Z",
     "start_time": "2023-11-13T15:13:07.973254Z"
    }
   },
   "outputs": [],
   "source": []
  },
  {
   "cell_type": "markdown",
   "id": "c6cca35c",
   "metadata": {},
   "source": [
    "**tuples**"
   ]
  },
  {
   "cell_type": "code",
   "execution_count": 97,
   "id": "93e25b1f",
   "metadata": {
    "ExecuteTime": {
     "end_time": "2023-11-13T18:40:34.322502Z",
     "start_time": "2023-11-13T18:40:34.308438Z"
    }
   },
   "outputs": [],
   "source": [
    "t1 = 1, 2, \"foo\""
   ]
  },
  {
   "cell_type": "code",
   "execution_count": 98,
   "id": "0448918f",
   "metadata": {
    "ExecuteTime": {
     "end_time": "2023-11-13T18:40:47.457615Z",
     "start_time": "2023-11-13T18:40:47.440550Z"
    }
   },
   "outputs": [
    {
     "data": {
      "text/plain": [
       "(1, 2, 'foo')"
      ]
     },
     "execution_count": 98,
     "metadata": {},
     "output_type": "execute_result"
    }
   ],
   "source": [
    "t1 "
   ]
  },
  {
   "cell_type": "code",
   "execution_count": 99,
   "id": "82a1f56c",
   "metadata": {
    "ExecuteTime": {
     "end_time": "2023-11-13T18:41:04.922103Z",
     "start_time": "2023-11-13T18:41:04.908085Z"
    },
    "id": "SROhWaxS_OEO"
   },
   "outputs": [],
   "source": [
    "t3 = t1 "
   ]
  },
  {
   "cell_type": "code",
   "execution_count": 100,
   "id": "350fb137",
   "metadata": {
    "ExecuteTime": {
     "end_time": "2023-11-13T18:41:16.904109Z",
     "start_time": "2023-11-13T18:41:16.888943Z"
    },
    "colab": {
     "base_uri": "https://localhost:8080/",
     "height": 35
    },
    "id": "PbwpwNTK_OAi",
    "outputId": "6e8918bc-57b5-4f32-a758-460730261c89"
   },
   "outputs": [
    {
     "data": {
      "text/plain": [
       "'foo'"
      ]
     },
     "execution_count": 100,
     "metadata": {},
     "output_type": "execute_result"
    }
   ],
   "source": [
    "t1[-1] "
   ]
  },
  {
   "cell_type": "code",
   "execution_count": 101,
   "id": "4452c1ad",
   "metadata": {
    "ExecuteTime": {
     "end_time": "2023-11-13T18:41:42.122685Z",
     "start_time": "2023-11-13T18:41:42.106478Z"
    },
    "colab": {
     "base_uri": "https://localhost:8080/"
    },
    "id": "fbE1KSmt_N90",
    "outputId": "202a2473-0e2e-479a-e595-1adbe412a805"
   },
   "outputs": [],
   "source": [
    "t1 = list(t1) "
   ]
  },
  {
   "cell_type": "code",
   "execution_count": 102,
   "id": "d61d2b3d",
   "metadata": {
    "ExecuteTime": {
     "end_time": "2023-11-13T18:41:46.724758Z",
     "start_time": "2023-11-13T18:41:46.715254Z"
    },
    "colab": {
     "base_uri": "https://localhost:8080/",
     "height": 35
    },
    "id": "JzZTJ6yA_N6B",
    "outputId": "00a4a13b-8736-40f6-e847-78fedbee0e7d"
   },
   "outputs": [
    {
     "data": {
      "text/plain": [
       "[1, 2, 'foo']"
      ]
     },
     "execution_count": 102,
     "metadata": {},
     "output_type": "execute_result"
    }
   ],
   "source": [
    "t1 "
   ]
  },
  {
   "cell_type": "code",
   "execution_count": 103,
   "id": "1d3ae7e6",
   "metadata": {
    "ExecuteTime": {
     "end_time": "2023-11-13T18:42:15.872097Z",
     "start_time": "2023-11-13T18:42:15.834885Z"
    },
    "colab": {
     "base_uri": "https://localhost:8080/"
    },
    "id": "bOta_98m_N2U",
    "outputId": "2806332e-39f8-4bec-ef6d-b1280bd92d11"
   },
   "outputs": [
    {
     "ename": "TypeError",
     "evalue": "'<' not supported between instances of 'str' and 'int'",
     "output_type": "error",
     "traceback": [
      "\u001b[1;31m---------------------------------------------------------------------------\u001b[0m",
      "\u001b[1;31mTypeError\u001b[0m                                 Traceback (most recent call last)",
      "Cell \u001b[1;32mIn[103], line 1\u001b[0m\n\u001b[1;32m----> 1\u001b[0m \u001b[43mt1\u001b[49m\u001b[38;5;241;43m.\u001b[39;49m\u001b[43msort\u001b[49m\u001b[43m(\u001b[49m\u001b[43m)\u001b[49m\n",
      "\u001b[1;31mTypeError\u001b[0m: '<' not supported between instances of 'str' and 'int'"
     ]
    }
   ],
   "source": [
    "t1.sort() "
   ]
  },
  {
   "cell_type": "code",
   "execution_count": 104,
   "id": "1688e321",
   "metadata": {
    "ExecuteTime": {
     "end_time": "2023-11-13T18:43:01.895582Z",
     "start_time": "2023-11-13T18:43:01.877385Z"
    },
    "colab": {
     "base_uri": "https://localhost:8080/"
    },
    "id": "I3uX-3ZY_0Yb",
    "outputId": "602deba7-fbb2-4d0a-e998-1de27aeb41c6"
   },
   "outputs": [
    {
     "data": {
      "text/plain": [
       "(1, 2, 'foo')"
      ]
     },
     "execution_count": 104,
     "metadata": {},
     "output_type": "execute_result"
    }
   ],
   "source": [
    "t3 "
   ]
  },
  {
   "cell_type": "code",
   "execution_count": null,
   "id": "ddf2579f",
   "metadata": {},
   "outputs": [],
   "source": []
  },
  {
   "cell_type": "code",
   "execution_count": 105,
   "id": "91a5f4f4",
   "metadata": {
    "ExecuteTime": {
     "end_time": "2023-11-13T18:43:52.796720Z",
     "start_time": "2023-11-13T18:43:52.790005Z"
    }
   },
   "outputs": [],
   "source": [
    "mix_tuple = (\"11\", 11, [2, \"two\", (\"six\", 6)], (5, \"fair\"))   #---> 6"
   ]
  },
  {
   "cell_type": "code",
   "execution_count": 106,
   "id": "16a0da2e",
   "metadata": {
    "ExecuteTime": {
     "end_time": "2023-11-13T18:43:59.817622Z",
     "start_time": "2023-11-13T18:43:59.795572Z"
    }
   },
   "outputs": [
    {
     "data": {
      "text/plain": [
       "('11', 11, [2, 'two', ('six', 6)], (5, 'fair'))"
      ]
     },
     "execution_count": 106,
     "metadata": {},
     "output_type": "execute_result"
    }
   ],
   "source": [
    "mix_tuple"
   ]
  },
  {
   "cell_type": "code",
   "execution_count": 107,
   "id": "822cf5b0",
   "metadata": {
    "ExecuteTime": {
     "end_time": "2023-11-13T18:44:35.057351Z",
     "start_time": "2023-11-13T18:44:35.045792Z"
    }
   },
   "outputs": [
    {
     "data": {
      "text/plain": [
       "[2, 'two', ('six', 6)]"
      ]
     },
     "execution_count": 107,
     "metadata": {},
     "output_type": "execute_result"
    }
   ],
   "source": [
    "mix_tuple[2] "
   ]
  },
  {
   "cell_type": "code",
   "execution_count": 108,
   "id": "457cafb1",
   "metadata": {
    "ExecuteTime": {
     "end_time": "2023-11-13T18:44:53.056838Z",
     "start_time": "2023-11-13T18:44:53.035813Z"
    }
   },
   "outputs": [
    {
     "data": {
      "text/plain": [
       "('six', 6)"
      ]
     },
     "execution_count": 108,
     "metadata": {},
     "output_type": "execute_result"
    }
   ],
   "source": [
    "mix_tuple[2][2]  "
   ]
  },
  {
   "cell_type": "code",
   "execution_count": 109,
   "id": "961d3649",
   "metadata": {
    "ExecuteTime": {
     "end_time": "2023-11-13T18:45:06.042160Z",
     "start_time": "2023-11-13T18:45:06.029680Z"
    }
   },
   "outputs": [
    {
     "data": {
      "text/plain": [
       "6"
      ]
     },
     "execution_count": 109,
     "metadata": {},
     "output_type": "execute_result"
    }
   ],
   "source": [
    "mix_tuple[2][2][1]   "
   ]
  },
  {
   "cell_type": "code",
   "execution_count": 110,
   "id": "436dbca5",
   "metadata": {
    "ExecuteTime": {
     "end_time": "2023-11-13T18:46:13.891435Z",
     "start_time": "2023-11-13T18:46:13.880102Z"
    }
   },
   "outputs": [
    {
     "data": {
      "text/plain": [
       "int"
      ]
     },
     "execution_count": 110,
     "metadata": {},
     "output_type": "execute_result"
    }
   ],
   "source": [
    "type(mix_tuple[2][2][1]) "
   ]
  },
  {
   "cell_type": "code",
   "execution_count": 111,
   "id": "c9e496a9",
   "metadata": {
    "ExecuteTime": {
     "end_time": "2023-11-13T19:04:20.447892Z",
     "start_time": "2023-11-13T19:04:20.429840Z"
    }
   },
   "outputs": [],
   "source": [
    "p = (4, \"dog\", 9, -33, 9, 2)"
   ]
  },
  {
   "cell_type": "code",
   "execution_count": 112,
   "id": "0f1ad31e",
   "metadata": {
    "ExecuteTime": {
     "end_time": "2023-11-13T19:04:30.399485Z",
     "start_time": "2023-11-13T19:04:30.388963Z"
    }
   },
   "outputs": [
    {
     "data": {
      "text/plain": [
       "True"
      ]
     },
     "execution_count": 112,
     "metadata": {},
     "output_type": "execute_result"
    }
   ],
   "source": [
    "4 in p "
   ]
  },
  {
   "cell_type": "code",
   "execution_count": 113,
   "id": "7348e833",
   "metadata": {
    "ExecuteTime": {
     "end_time": "2023-11-13T19:04:39.050057Z",
     "start_time": "2023-11-13T19:04:39.028985Z"
    }
   },
   "outputs": [
    {
     "data": {
      "text/plain": [
       "False"
      ]
     },
     "execution_count": 113,
     "metadata": {},
     "output_type": "execute_result"
    }
   ],
   "source": [
    "5 in p "
   ]
  },
  {
   "cell_type": "code",
   "execution_count": null,
   "id": "719cea27",
   "metadata": {
    "ExecuteTime": {
     "end_time": "2023-11-10T16:27:30.765318Z",
     "start_time": "2023-11-10T16:27:30.758312Z"
    }
   },
   "outputs": [],
   "source": []
  },
  {
   "cell_type": "code",
   "execution_count": 114,
   "id": "54333805",
   "metadata": {
    "ExecuteTime": {
     "end_time": "2023-11-13T19:04:45.608741Z",
     "start_time": "2023-11-13T19:04:45.590307Z"
    }
   },
   "outputs": [],
   "source": [
    "h = \"Wild Swans by Jung Chang\""
   ]
  },
  {
   "cell_type": "code",
   "execution_count": 115,
   "id": "c7f1e2c0",
   "metadata": {
    "ExecuteTime": {
     "end_time": "2023-11-13T19:05:00.942675Z",
     "start_time": "2023-11-13T19:05:00.915511Z"
    }
   },
   "outputs": [
    {
     "data": {
      "text/plain": [
       "True"
      ]
     },
     "execution_count": 115,
     "metadata": {},
     "output_type": "execute_result"
    }
   ],
   "source": [
    "\"ans\" in h "
   ]
  },
  {
   "cell_type": "code",
   "execution_count": 116,
   "id": "422dc6e1",
   "metadata": {
    "ExecuteTime": {
     "end_time": "2023-11-13T19:05:27.298162Z",
     "start_time": "2023-11-13T19:05:27.274366Z"
    }
   },
   "outputs": [
    {
     "data": {
      "text/plain": [
       "False"
      ]
     },
     "execution_count": 116,
     "metadata": {},
     "output_type": "execute_result"
    }
   ],
   "source": [
    "\"WSJC\" in h "
   ]
  },
  {
   "cell_type": "code",
   "execution_count": null,
   "id": "ec2f3d76",
   "metadata": {
    "ExecuteTime": {
     "end_time": "2023-11-10T16:27:31.000025Z",
     "start_time": "2023-11-10T16:27:30.994871Z"
    }
   },
   "outputs": [],
   "source": []
  },
  {
   "cell_type": "code",
   "execution_count": 120,
   "id": "b0ed0fea",
   "metadata": {
    "ExecuteTime": {
     "end_time": "2023-11-13T19:09:26.119068Z",
     "start_time": "2023-11-13T19:09:26.104545Z"
    }
   },
   "outputs": [],
   "source": [
    "names = [\"aixk\", \"duke\", \"edik\", \"tofp\", \"duke\", 'edik', 'duke']"
   ]
  },
  {
   "cell_type": "code",
   "execution_count": 121,
   "id": "edb4bb19",
   "metadata": {
    "ExecuteTime": {
     "end_time": "2023-11-13T19:09:26.710953Z",
     "start_time": "2023-11-13T19:09:26.697406Z"
    }
   },
   "outputs": [
    {
     "data": {
      "text/plain": [
       "{'aixk', 'duke', 'edik', 'tofp'}"
      ]
     },
     "execution_count": 121,
     "metadata": {},
     "output_type": "execute_result"
    }
   ],
   "source": [
    "set(names)"
   ]
  },
  {
   "cell_type": "code",
   "execution_count": 124,
   "id": "24224ba8",
   "metadata": {
    "ExecuteTime": {
     "end_time": "2023-11-13T19:10:21.101886Z",
     "start_time": "2023-11-13T19:10:21.095349Z"
    }
   },
   "outputs": [],
   "source": [
    "name_set = set(names)"
   ]
  },
  {
   "cell_type": "code",
   "execution_count": 125,
   "id": "68352925",
   "metadata": {
    "ExecuteTime": {
     "end_time": "2023-11-13T19:10:29.490053Z",
     "start_time": "2023-11-13T19:10:29.475030Z"
    }
   },
   "outputs": [
    {
     "data": {
      "text/plain": [
       "{'aixk', 'duke', 'edik', 'tofp'}"
      ]
     },
     "execution_count": 125,
     "metadata": {},
     "output_type": "execute_result"
    }
   ],
   "source": [
    "name_set "
   ]
  },
  {
   "cell_type": "code",
   "execution_count": 126,
   "id": "5c216bde",
   "metadata": {
    "ExecuteTime": {
     "end_time": "2023-11-13T19:10:45.909496Z",
     "start_time": "2023-11-13T19:10:45.897814Z"
    }
   },
   "outputs": [
    {
     "data": {
      "text/plain": [
       "['aixk', 'edik', 'duke', 'tofp']"
      ]
     },
     "execution_count": 126,
     "metadata": {},
     "output_type": "execute_result"
    }
   ],
   "source": [
    "list(name_set) "
   ]
  },
  {
   "cell_type": "code",
   "execution_count": 123,
   "id": "3d49b164",
   "metadata": {
    "ExecuteTime": {
     "end_time": "2023-11-13T19:09:42.670830Z",
     "start_time": "2023-11-13T19:09:42.646564Z"
    }
   },
   "outputs": [
    {
     "data": {
      "text/plain": [
       "['aixk', 'edik', 'duke', 'tofp']"
      ]
     },
     "execution_count": 123,
     "metadata": {},
     "output_type": "execute_result"
    }
   ],
   "source": [
    "list(set(names)) "
   ]
  },
  {
   "cell_type": "code",
   "execution_count": null,
   "id": "ac88fbfa",
   "metadata": {},
   "outputs": [],
   "source": []
  },
  {
   "cell_type": "code",
   "execution_count": null,
   "id": "31fac9cd",
   "metadata": {},
   "outputs": [],
   "source": []
  },
  {
   "cell_type": "code",
   "execution_count": 127,
   "id": "e5b856e6",
   "metadata": {
    "ExecuteTime": {
     "end_time": "2023-11-13T19:11:11.317246Z",
     "start_time": "2023-11-13T19:11:11.302741Z"
    }
   },
   "outputs": [
    {
     "data": {
      "text/plain": [
       "{'a', 'b', 'c', 'd', 'e', 'f', 'g', 'q', 'r', 's', 't', 'v', 'w', 'x', 'z'}"
      ]
     },
     "execution_count": 127,
     "metadata": {},
     "output_type": "execute_result"
    }
   ],
   "source": [
    "left = set(\"qwertasdfgzxcvb\")\n",
    "left"
   ]
  },
  {
   "cell_type": "code",
   "execution_count": 128,
   "id": "7a72ebe4",
   "metadata": {
    "ExecuteTime": {
     "end_time": "2023-11-13T19:11:21.507562Z",
     "start_time": "2023-11-13T19:11:21.485789Z"
    }
   },
   "outputs": [
    {
     "data": {
      "text/plain": [
       "{'h', 'i', 'j', 'k', 'l', 'm', 'n', 'o', 'p', 'u', 'y'}"
      ]
     },
     "execution_count": 128,
     "metadata": {},
     "output_type": "execute_result"
    }
   ],
   "source": [
    "right = set(\"yuiophjklmn\")\n",
    "right"
   ]
  },
  {
   "cell_type": "code",
   "execution_count": 132,
   "id": "12530c52",
   "metadata": {
    "ExecuteTime": {
     "end_time": "2023-11-13T19:12:45.199903Z",
     "start_time": "2023-11-13T19:12:45.181411Z"
    }
   },
   "outputs": [],
   "source": [
    "word = \"metaworld\""
   ]
  },
  {
   "cell_type": "code",
   "execution_count": 131,
   "id": "a2ec8a93",
   "metadata": {
    "ExecuteTime": {
     "end_time": "2023-11-13T19:12:23.890401Z",
     "start_time": "2023-11-13T19:12:23.870374Z"
    }
   },
   "outputs": [
    {
     "data": {
      "text/plain": [
       "{'b', 'i', 'r'}"
      ]
     },
     "execution_count": 131,
     "metadata": {},
     "output_type": "execute_result"
    }
   ],
   "source": [
    "set(\"bir\") "
   ]
  },
  {
   "cell_type": "code",
   "execution_count": 130,
   "id": "7a9f7e79",
   "metadata": {
    "ExecuteTime": {
     "end_time": "2023-11-13T19:11:51.368151Z",
     "start_time": "2023-11-13T19:11:51.336000Z"
    }
   },
   "outputs": [
    {
     "data": {
      "text/plain": [
       "True"
      ]
     },
     "execution_count": 130,
     "metadata": {},
     "output_type": "execute_result"
    }
   ],
   "source": [
    "bool(set(\"bir\"))"
   ]
  },
  {
   "cell_type": "code",
   "execution_count": 136,
   "id": "1ddcf307",
   "metadata": {
    "ExecuteTime": {
     "end_time": "2023-11-13T19:13:59.799619Z",
     "start_time": "2023-11-13T19:13:59.785002Z"
    }
   },
   "outputs": [],
   "source": [
    "word = set(word) "
   ]
  },
  {
   "cell_type": "code",
   "execution_count": null,
   "id": "93dcca22",
   "metadata": {
    "ExecuteTime": {
     "end_time": "2023-11-13T16:19:30.130041Z",
     "start_time": "2023-11-13T16:19:30.122045Z"
    }
   },
   "outputs": [],
   "source": []
  },
  {
   "cell_type": "code",
   "execution_count": null,
   "id": "d1763209",
   "metadata": {
    "ExecuteTime": {
     "end_time": "2023-11-13T16:19:31.125642Z",
     "start_time": "2023-11-13T16:19:31.112539Z"
    }
   },
   "outputs": [],
   "source": []
  },
  {
   "cell_type": "code",
   "execution_count": 134,
   "id": "b27ea7ff",
   "metadata": {
    "ExecuteTime": {
     "end_time": "2023-11-13T19:13:26.460401Z",
     "start_time": "2023-11-13T19:13:26.442293Z"
    }
   },
   "outputs": [],
   "source": [
    "sentence = \"Plan is nothing, planning is everything.\""
   ]
  },
  {
   "cell_type": "code",
   "execution_count": 137,
   "id": "b561fc78",
   "metadata": {
    "ExecuteTime": {
     "end_time": "2023-11-13T19:14:03.600486Z",
     "start_time": "2023-11-13T19:14:03.574905Z"
    }
   },
   "outputs": [
    {
     "data": {
      "text/plain": [
       "{'a', 'd', 'e', 'l', 'm', 'o', 'r', 't', 'w'}"
      ]
     },
     "execution_count": 137,
     "metadata": {},
     "output_type": "execute_result"
    }
   ],
   "source": [
    "word "
   ]
  },
  {
   "cell_type": "code",
   "execution_count": 138,
   "id": "059466a3",
   "metadata": {
    "ExecuteTime": {
     "end_time": "2023-11-13T19:15:05.363034Z",
     "start_time": "2023-11-13T19:15:05.354398Z"
    }
   },
   "outputs": [
    {
     "data": {
      "text/plain": [
       "{'a', 'e', 'l', 'o', 'r', 't'}"
      ]
     },
     "execution_count": 138,
     "metadata": {},
     "output_type": "execute_result"
    }
   ],
   "source": [
    "word.intersection(sentence) "
   ]
  },
  {
   "cell_type": "code",
   "execution_count": 139,
   "id": "4413be61",
   "metadata": {
    "ExecuteTime": {
     "end_time": "2023-11-13T19:15:41.104683Z",
     "start_time": "2023-11-13T19:15:41.085515Z"
    }
   },
   "outputs": [
    {
     "data": {
      "text/plain": [
       "{'d', 'm', 'w'}"
      ]
     },
     "execution_count": 139,
     "metadata": {},
     "output_type": "execute_result"
    }
   ],
   "source": [
    "word.difference(sentence)"
   ]
  },
  {
   "cell_type": "code",
   "execution_count": null,
   "id": "8fe06d3a",
   "metadata": {},
   "outputs": [],
   "source": []
  },
  {
   "cell_type": "code",
   "execution_count": null,
   "id": "2716f01b",
   "metadata": {},
   "outputs": [],
   "source": []
  },
  {
   "cell_type": "code",
   "execution_count": 141,
   "id": "e745d648",
   "metadata": {
    "ExecuteTime": {
     "end_time": "2023-11-13T19:17:03.168431Z",
     "start_time": "2023-11-13T19:17:03.146954Z"
    }
   },
   "outputs": [
    {
     "name": "stdout",
     "output_type": "stream",
     "text": [
      "hello\n",
      "hello\n",
      "hello\n"
     ]
    }
   ],
   "source": [
    "for i in \"abc\" :\n",
    "    print(\"hello\")"
   ]
  },
  {
   "cell_type": "code",
   "execution_count": 140,
   "id": "6712351e",
   "metadata": {
    "ExecuteTime": {
     "end_time": "2023-11-13T19:16:39.753412Z",
     "start_time": "2023-11-13T19:16:39.732286Z"
    }
   },
   "outputs": [
    {
     "data": {
      "text/plain": [
       "3"
      ]
     },
     "execution_count": 140,
     "metadata": {},
     "output_type": "execute_result"
    }
   ],
   "source": [
    "len(\"abc\") "
   ]
  },
  {
   "cell_type": "code",
   "execution_count": 142,
   "id": "c514c2c0",
   "metadata": {
    "ExecuteTime": {
     "end_time": "2023-11-13T19:17:28.659595Z",
     "start_time": "2023-11-13T19:17:28.648031Z"
    }
   },
   "outputs": [],
   "source": [
    "test = [(1,2), (3,4), (5,6)]"
   ]
  },
  {
   "cell_type": "code",
   "execution_count": 143,
   "id": "51a5ebcb",
   "metadata": {
    "ExecuteTime": {
     "end_time": "2023-11-13T19:17:39.021980Z",
     "start_time": "2023-11-13T19:17:39.008834Z"
    }
   },
   "outputs": [
    {
     "data": {
      "text/plain": [
       "list"
      ]
     },
     "execution_count": 143,
     "metadata": {},
     "output_type": "execute_result"
    }
   ],
   "source": [
    "type(test) "
   ]
  },
  {
   "cell_type": "code",
   "execution_count": 144,
   "id": "d120d038",
   "metadata": {
    "ExecuteTime": {
     "end_time": "2023-11-13T19:18:05.530164Z",
     "start_time": "2023-11-13T19:18:05.513053Z"
    }
   },
   "outputs": [
    {
     "name": "stdout",
     "output_type": "stream",
     "text": [
      "(1, 2)\n",
      "(3, 4)\n",
      "(5, 6)\n"
     ]
    }
   ],
   "source": [
    "for i in test :\n",
    "    print(i) "
   ]
  },
  {
   "cell_type": "code",
   "execution_count": 146,
   "id": "11a14235",
   "metadata": {
    "ExecuteTime": {
     "end_time": "2023-11-13T19:18:40.935408Z",
     "start_time": "2023-11-13T19:18:40.918183Z"
    }
   },
   "outputs": [
    {
     "name": "stdout",
     "output_type": "stream",
     "text": [
      "1 2\n",
      "3 4\n",
      "5 6\n"
     ]
    }
   ],
   "source": [
    "for i,j in test :\n",
    "    print(i, j) "
   ]
  },
  {
   "cell_type": "code",
   "execution_count": null,
   "id": "38476b2b",
   "metadata": {},
   "outputs": [],
   "source": []
  },
  {
   "cell_type": "code",
   "execution_count": 147,
   "id": "fc4ef27c",
   "metadata": {
    "ExecuteTime": {
     "end_time": "2023-11-13T19:19:33.862299Z",
     "start_time": "2023-11-13T19:19:33.850775Z"
    }
   },
   "outputs": [],
   "source": [
    "test2 = [(1,2,11), (3,4,22), (5,6,33)]"
   ]
  },
  {
   "cell_type": "code",
   "execution_count": 148,
   "id": "0acadb7b",
   "metadata": {
    "ExecuteTime": {
     "end_time": "2023-11-13T19:19:47.425387Z",
     "start_time": "2023-11-13T19:19:47.408315Z"
    }
   },
   "outputs": [
    {
     "data": {
      "text/plain": [
       "list"
      ]
     },
     "execution_count": 148,
     "metadata": {},
     "output_type": "execute_result"
    }
   ],
   "source": [
    "type(test2) "
   ]
  },
  {
   "cell_type": "code",
   "execution_count": 149,
   "id": "119a565e",
   "metadata": {
    "ExecuteTime": {
     "end_time": "2023-11-13T19:20:35.334823Z",
     "start_time": "2023-11-13T19:20:35.324296Z"
    }
   },
   "outputs": [
    {
     "name": "stdout",
     "output_type": "stream",
     "text": [
      "1 2 11\n",
      "3 4 22\n",
      "5 6 33\n"
     ]
    }
   ],
   "source": [
    "for i, j, m in test2 :\n",
    "    print(i, j, m)"
   ]
  },
  {
   "cell_type": "code",
   "execution_count": 150,
   "id": "93d091ba",
   "metadata": {
    "ExecuteTime": {
     "end_time": "2023-11-13T19:21:02.419413Z",
     "start_time": "2023-11-13T19:21:02.405926Z"
    }
   },
   "outputs": [
    {
     "name": "stdout",
     "output_type": "stream",
     "text": [
      "1 4 121\n",
      "9 16 484\n",
      "25 36 1089\n"
     ]
    }
   ],
   "source": [
    "for i, j, m in test2 :\n",
    "    print(i**2, j**2, m**2)"
   ]
  },
  {
   "cell_type": "code",
   "execution_count": 152,
   "id": "e839c9ed",
   "metadata": {
    "ExecuteTime": {
     "end_time": "2023-11-13T19:21:35.782184Z",
     "start_time": "2023-11-13T19:21:35.766426Z"
    }
   },
   "outputs": [
    {
     "name": "stdout",
     "output_type": "stream",
     "text": [
      "(1, 2, 11)\n",
      "(3, 4, 22)\n",
      "(5, 6, 33)\n"
     ]
    }
   ],
   "source": [
    "for i in test2 :\n",
    "    print(i) "
   ]
  },
  {
   "cell_type": "code",
   "execution_count": 155,
   "id": "294cad8a",
   "metadata": {
    "ExecuteTime": {
     "end_time": "2023-11-13T19:22:26.767496Z",
     "start_time": "2023-11-13T19:22:26.756003Z"
    }
   },
   "outputs": [
    {
     "data": {
      "text/plain": [
       "(1, 2, 11)"
      ]
     },
     "execution_count": 155,
     "metadata": {},
     "output_type": "execute_result"
    }
   ],
   "source": [
    "test2[0] "
   ]
  },
  {
   "cell_type": "code",
   "execution_count": 156,
   "id": "7ec19c1e",
   "metadata": {
    "ExecuteTime": {
     "end_time": "2023-11-13T19:22:44.351862Z",
     "start_time": "2023-11-13T19:22:44.343322Z"
    }
   },
   "outputs": [
    {
     "data": {
      "text/plain": [
       "tuple"
      ]
     },
     "execution_count": 156,
     "metadata": {},
     "output_type": "execute_result"
    }
   ],
   "source": [
    "type(test[0]) "
   ]
  },
  {
   "cell_type": "code",
   "execution_count": 157,
   "id": "dcd16b62",
   "metadata": {
    "ExecuteTime": {
     "end_time": "2023-11-13T19:23:25.666538Z",
     "start_time": "2023-11-13T19:23:25.644207Z"
    }
   },
   "outputs": [],
   "source": [
    "text = [\"one\", \"two\", \"three\", \"four\", \"five\"]"
   ]
  },
  {
   "cell_type": "code",
   "execution_count": 158,
   "id": "c33e1d87",
   "metadata": {
    "ExecuteTime": {
     "end_time": "2023-11-13T19:23:26.086309Z",
     "start_time": "2023-11-13T19:23:26.066828Z"
    }
   },
   "outputs": [],
   "source": [
    "numbers = [1, 2, 3, 4, 5]"
   ]
  },
  {
   "cell_type": "code",
   "execution_count": 159,
   "id": "296f8b84",
   "metadata": {
    "ExecuteTime": {
     "end_time": "2023-11-13T19:24:26.535287Z",
     "start_time": "2023-11-13T19:24:26.517779Z"
    }
   },
   "outputs": [],
   "source": [
    "zipped = zip(text, numbers)"
   ]
  },
  {
   "cell_type": "code",
   "execution_count": 160,
   "id": "390b454b",
   "metadata": {
    "ExecuteTime": {
     "end_time": "2023-11-13T19:24:32.234704Z",
     "start_time": "2023-11-13T19:24:32.217550Z"
    }
   },
   "outputs": [
    {
     "data": {
      "text/plain": [
       "<zip at 0x183f34b68c0>"
      ]
     },
     "execution_count": 160,
     "metadata": {},
     "output_type": "execute_result"
    }
   ],
   "source": [
    "zipped "
   ]
  },
  {
   "cell_type": "code",
   "execution_count": 161,
   "id": "7f4023fe",
   "metadata": {
    "ExecuteTime": {
     "end_time": "2023-11-13T19:24:57.955202Z",
     "start_time": "2023-11-13T19:24:57.932598Z"
    }
   },
   "outputs": [
    {
     "data": {
      "text/plain": [
       "[('one', 1), ('two', 2), ('three', 3), ('four', 4), ('five', 5)]"
      ]
     },
     "execution_count": 161,
     "metadata": {},
     "output_type": "execute_result"
    }
   ],
   "source": [
    "list(zipped) "
   ]
  },
  {
   "cell_type": "code",
   "execution_count": 162,
   "id": "3609e574",
   "metadata": {
    "ExecuteTime": {
     "end_time": "2023-11-13T19:25:39.700360Z",
     "start_time": "2023-11-13T19:25:39.681315Z"
    }
   },
   "outputs": [
    {
     "name": "stdout",
     "output_type": "stream",
     "text": [
      "\n"
     ]
    }
   ],
   "source": [
    "print(* zipped) "
   ]
  },
  {
   "cell_type": "code",
   "execution_count": 163,
   "id": "a78d2f56",
   "metadata": {
    "ExecuteTime": {
     "end_time": "2023-11-13T19:25:58.174957Z",
     "start_time": "2023-11-13T19:25:58.157803Z"
    }
   },
   "outputs": [],
   "source": [
    "zipped2 = zip(text, numbers)"
   ]
  },
  {
   "cell_type": "code",
   "execution_count": 164,
   "id": "f969d2b4",
   "metadata": {
    "ExecuteTime": {
     "end_time": "2023-11-13T19:26:17.864409Z",
     "start_time": "2023-11-13T19:26:17.844415Z"
    }
   },
   "outputs": [
    {
     "name": "stdout",
     "output_type": "stream",
     "text": [
      "('one', 1) ('two', 2) ('three', 3) ('four', 4) ('five', 5)\n"
     ]
    }
   ],
   "source": [
    "print(* zipped2) "
   ]
  },
  {
   "cell_type": "code",
   "execution_count": null,
   "id": "6e28bdd9",
   "metadata": {
    "ExecuteTime": {
     "end_time": "2023-11-13T16:22:07.873814Z",
     "start_time": "2023-11-13T16:22:07.863842Z"
    }
   },
   "outputs": [],
   "source": []
  },
  {
   "cell_type": "code",
   "execution_count": null,
   "id": "37dd791d",
   "metadata": {},
   "outputs": [],
   "source": []
  },
  {
   "cell_type": "code",
   "execution_count": null,
   "id": "fbb93ced",
   "metadata": {
    "ExecuteTime": {
     "end_time": "2023-11-13T16:23:39.724206Z",
     "start_time": "2023-11-13T16:23:39.707508Z"
    },
    "colab": {
     "base_uri": "https://localhost:8080/"
    },
    "executionInfo": {
     "elapsed": 268,
     "status": "ok",
     "timestamp": 1645035550014,
     "user": {
      "displayName": "Kerime abanoz",
      "photoUrl": "https://lh3.googleusercontent.com/a-/AOh14Gg75ZvmYYjoB0thUMQZ-iR3_ByHcWn09K9Qk3pP7A=s64",
      "userId": "03972199748748116213"
     },
     "user_tz": -180
    },
    "id": "9C8FUAkts0_5",
    "outputId": "2615ec2d-55af-4ecf-b8ef-fc55e4425ceb"
   },
   "outputs": [],
   "source": [
    "dict_by_dict = {'animal': 'dog',\n",
    "                'planet': 'neptun',\n",
    "                'number': 40,\n",
    "                'pi': 3.14,\n",
    "                'is_good': True}\n",
    "\n",
    "print(dict_by_dict.items(), '\\n')\n",
    "print(dict_by_dict.keys(), '\\n')\n",
    "print(dict_by_dict.values())"
   ]
  },
  {
   "cell_type": "code",
   "execution_count": null,
   "id": "48f0355d",
   "metadata": {
    "ExecuteTime": {
     "end_time": "2023-11-13T16:23:40.773039Z",
     "start_time": "2023-11-13T16:23:40.753268Z"
    }
   },
   "outputs": [],
   "source": []
  },
  {
   "cell_type": "code",
   "execution_count": null,
   "id": "9fb16976",
   "metadata": {
    "ExecuteTime": {
     "end_time": "2023-11-13T16:23:42.171997Z",
     "start_time": "2023-11-13T16:23:42.161025Z"
    },
    "colab": {
     "base_uri": "https://localhost:8080/"
    },
    "executionInfo": {
     "elapsed": 285,
     "status": "ok",
     "timestamp": 1645035657908,
     "user": {
      "displayName": "Kerime abanoz",
      "photoUrl": "https://lh3.googleusercontent.com/a-/AOh14Gg75ZvmYYjoB0thUMQZ-iR3_ByHcWn09K9Qk3pP7A=s64",
      "userId": "03972199748748116213"
     },
     "user_tz": -180
    },
    "id": "G6lR5VElw0YV",
    "outputId": "0611036a-8e5b-4879-cdf1-7a157b50e2a2"
   },
   "outputs": [],
   "source": []
  },
  {
   "cell_type": "code",
   "execution_count": null,
   "id": "beba2f97",
   "metadata": {
    "ExecuteTime": {
     "end_time": "2023-11-13T16:23:49.991252Z",
     "start_time": "2023-11-13T16:23:49.984213Z"
    }
   },
   "outputs": [],
   "source": []
  },
  {
   "cell_type": "code",
   "execution_count": null,
   "id": "35169e85",
   "metadata": {
    "ExecuteTime": {
     "end_time": "2023-11-13T16:23:56.187708Z",
     "start_time": "2023-11-13T16:23:56.180727Z"
    }
   },
   "outputs": [],
   "source": []
  },
  {
   "cell_type": "code",
   "execution_count": null,
   "id": "7555798b",
   "metadata": {
    "ExecuteTime": {
     "end_time": "2023-11-13T16:24:26.740623Z",
     "start_time": "2023-11-13T16:24:26.733108Z"
    }
   },
   "outputs": [],
   "source": []
  },
  {
   "cell_type": "code",
   "execution_count": null,
   "id": "9155800c",
   "metadata": {},
   "outputs": [],
   "source": []
  },
  {
   "cell_type": "markdown",
   "id": "34a3fd61",
   "metadata": {},
   "source": [
    "**Functions**"
   ]
  },
  {
   "cell_type": "code",
   "execution_count": 166,
   "id": "73562419",
   "metadata": {
    "ExecuteTime": {
     "end_time": "2023-11-13T19:30:31.838823Z",
     "start_time": "2023-11-13T19:30:31.824318Z"
    }
   },
   "outputs": [],
   "source": [
    "def bitanefonksiyon(x = \"ali\", y = 22) :\n",
    "    print(x, y, \"yaşındadır.\")"
   ]
  },
  {
   "cell_type": "code",
   "execution_count": 167,
   "id": "c6256940",
   "metadata": {
    "ExecuteTime": {
     "end_time": "2023-11-13T19:30:45.125156Z",
     "start_time": "2023-11-13T19:30:45.105263Z"
    }
   },
   "outputs": [
    {
     "name": "stdout",
     "output_type": "stream",
     "text": [
      "ali 22 yaşındadır.\n"
     ]
    }
   ],
   "source": [
    "bitanefonksiyon() "
   ]
  },
  {
   "cell_type": "code",
   "execution_count": 168,
   "id": "e2a5a7b3",
   "metadata": {
    "ExecuteTime": {
     "end_time": "2023-11-13T19:31:53.385813Z",
     "start_time": "2023-11-13T19:31:53.367315Z"
    }
   },
   "outputs": [
    {
     "name": "stdout",
     "output_type": "stream",
     "text": [
      "33 22 yaşındadır.\n"
     ]
    }
   ],
   "source": [
    "bitanefonksiyon(33)  "
   ]
  },
  {
   "cell_type": "code",
   "execution_count": 169,
   "id": "82c3f5d0",
   "metadata": {
    "ExecuteTime": {
     "end_time": "2023-11-13T19:32:46.458318Z",
     "start_time": "2023-11-13T19:32:46.438936Z"
    }
   },
   "outputs": [
    {
     "name": "stdout",
     "output_type": "stream",
     "text": [
      "Metin 35 yaşındadır.\n"
     ]
    }
   ],
   "source": [
    "bitanefonksiyon(x=\"Metin\", y=\"35\")  "
   ]
  },
  {
   "cell_type": "code",
   "execution_count": 170,
   "id": "03ab5a28",
   "metadata": {
    "ExecuteTime": {
     "end_time": "2023-11-13T19:33:32.547249Z",
     "start_time": "2023-11-13T19:33:32.526174Z"
    }
   },
   "outputs": [
    {
     "name": "stdout",
     "output_type": "stream",
     "text": [
      "Veli 27 yaşındadır.\n"
     ]
    }
   ],
   "source": [
    "bitanefonksiyon(\"Veli\", \"27\")   "
   ]
  },
  {
   "cell_type": "code",
   "execution_count": 171,
   "id": "f03abaa8",
   "metadata": {
    "ExecuteTime": {
     "end_time": "2023-11-13T19:34:17.154601Z",
     "start_time": "2023-11-13T19:34:17.134531Z"
    }
   },
   "outputs": [
    {
     "name": "stdout",
     "output_type": "stream",
     "text": [
      "Metin 35 yaşındadır.\n"
     ]
    }
   ],
   "source": [
    "bitanefonksiyon(y=\"35\", x=\"Metin\")  "
   ]
  },
  {
   "cell_type": "code",
   "execution_count": 172,
   "id": "faa82bb5",
   "metadata": {
    "ExecuteTime": {
     "end_time": "2023-11-13T19:34:52.360654Z",
     "start_time": "2023-11-13T19:34:52.342194Z"
    }
   },
   "outputs": [
    {
     "name": "stdout",
     "output_type": "stream",
     "text": [
      "27 Veli yaşındadır.\n"
     ]
    }
   ],
   "source": [
    "bitanefonksiyon(\"27\", \"Veli\")  "
   ]
  },
  {
   "cell_type": "code",
   "execution_count": 173,
   "id": "a23e0f0c",
   "metadata": {
    "ExecuteTime": {
     "end_time": "2023-11-13T19:35:35.969418Z",
     "start_time": "2023-11-13T19:35:35.955855Z"
    }
   },
   "outputs": [
    {
     "name": "stdout",
     "output_type": "stream",
     "text": [
      "Selin 22 yaşındadır.\n"
     ]
    }
   ],
   "source": [
    "bitanefonksiyon(\"Selin\")   "
   ]
  },
  {
   "cell_type": "code",
   "execution_count": null,
   "id": "08056f8d",
   "metadata": {
    "ExecuteTime": {
     "end_time": "2023-11-13T16:29:10.034120Z",
     "start_time": "2023-11-13T16:29:10.030132Z"
    }
   },
   "outputs": [],
   "source": []
  },
  {
   "cell_type": "code",
   "execution_count": 175,
   "id": "c81f343f",
   "metadata": {
    "ExecuteTime": {
     "end_time": "2023-11-13T19:37:53.564549Z",
     "start_time": "2023-11-13T19:37:53.549429Z"
    }
   },
   "outputs": [
    {
     "ename": "SyntaxError",
     "evalue": "non-default argument follows default argument (1326900733.py, line 1)",
     "output_type": "error",
     "traceback": [
      "\u001b[1;36m  Cell \u001b[1;32mIn[175], line 1\u001b[1;36m\u001b[0m\n\u001b[1;33m    def parrot(state='a stiff', action='voom', type='Norwegian Blue', voltage):\u001b[0m\n\u001b[1;37m                                                                      ^\u001b[0m\n\u001b[1;31mSyntaxError\u001b[0m\u001b[1;31m:\u001b[0m non-default argument follows default argument\n"
     ]
    }
   ],
   "source": [
    "def parrot(state='a stiff', action='voom', type='Norwegian Blue', voltage):\n",
    "    print(\"-- This parrot wouldn't\", action, end=' ')\n",
    "    print(\"if you put\", voltage, \"volts through it.\")\n",
    "    print(\"-- Lovely plumage, the\", type)\n",
    "    print(\"-- It's\", state, \"!\")"
   ]
  },
  {
   "cell_type": "code",
   "execution_count": 177,
   "id": "b477f30a",
   "metadata": {
    "ExecuteTime": {
     "end_time": "2023-11-13T19:39:32.664666Z",
     "start_time": "2023-11-13T19:39:32.650295Z"
    }
   },
   "outputs": [],
   "source": [
    "def parrot(voltage, state='a stiff', action='voom', type='Norwegian Blue'):\n",
    "    print(\"-- This parrot wouldn't\", action, end=' ')\n",
    "    print(\"if you put\", voltage, \"volts through it.\")\n",
    "    print(\"-- Lovely plumage, the\", type)\n",
    "    print(\"-- It's\", state, \"!\")"
   ]
  },
  {
   "cell_type": "code",
   "execution_count": 178,
   "id": "b7c8f306",
   "metadata": {
    "ExecuteTime": {
     "end_time": "2023-11-13T19:39:42.864913Z",
     "start_time": "2023-11-13T19:39:42.846514Z"
    }
   },
   "outputs": [
    {
     "name": "stdout",
     "output_type": "stream",
     "text": [
      "-- This parrot wouldn't voom if you put 1000 volts through it.\n",
      "-- Lovely plumage, the Norwegian Blue\n",
      "-- It's a stiff !\n"
     ]
    }
   ],
   "source": [
    "parrot(1000)"
   ]
  },
  {
   "cell_type": "code",
   "execution_count": 179,
   "id": "0b65d4dd",
   "metadata": {
    "ExecuteTime": {
     "end_time": "2023-11-13T19:41:36.639460Z",
     "start_time": "2023-11-13T19:41:36.620300Z"
    }
   },
   "outputs": [
    {
     "name": "stdout",
     "output_type": "stream",
     "text": [
      "-- This parrot wouldn't VOOOOOM if you put 1000000 volts through it.\n",
      "-- Lovely plumage, the Norwegian Blue\n",
      "-- It's a stiff !\n"
     ]
    }
   ],
   "source": [
    "parrot(voltage=1000000, action=\"VOOOOOM\")"
   ]
  },
  {
   "cell_type": "code",
   "execution_count": 180,
   "id": "82aed384",
   "metadata": {
    "ExecuteTime": {
     "end_time": "2023-11-13T19:42:41.044566Z",
     "start_time": "2023-11-13T19:42:41.027084Z"
    }
   },
   "outputs": [
    {
     "name": "stdout",
     "output_type": "stream",
     "text": [
      "-- This parrot wouldn't VOOOOOM if you put 1000000 volts through it.\n",
      "-- Lovely plumage, the Norwegian Blue\n",
      "-- It's a stiff !\n"
     ]
    }
   ],
   "source": [
    "parrot(action=\"VOOOOOM\", voltage=1000000)"
   ]
  },
  {
   "cell_type": "code",
   "execution_count": null,
   "id": "e5361de4",
   "metadata": {
    "ExecuteTime": {
     "end_time": "2023-11-13T16:30:04.832936Z",
     "start_time": "2023-11-13T16:30:04.825954Z"
    }
   },
   "outputs": [],
   "source": []
  },
  {
   "cell_type": "code",
   "execution_count": 182,
   "id": "3dac6a4a",
   "metadata": {
    "ExecuteTime": {
     "end_time": "2023-11-13T19:43:12.562187Z",
     "start_time": "2023-11-13T19:43:12.552146Z"
    }
   },
   "outputs": [],
   "source": [
    "def parrot(voltage, state='a stiff', action='voom', type='Norwegian Blue'):\n",
    "    print(\"-- This parrot wouldn't\", action, end=' ')\n",
    "    print(\"if you put\", voltage, \"volts through it.\")\n",
    "    print(\"-- Lovely plumage, the\", type)\n",
    "    print(\"-- It's\", state, \"!\")"
   ]
  },
  {
   "cell_type": "code",
   "execution_count": 183,
   "id": "0e481b08",
   "metadata": {
    "ExecuteTime": {
     "end_time": "2023-11-13T19:44:22.307960Z",
     "start_time": "2023-11-13T19:44:22.290065Z"
    }
   },
   "outputs": [
    {
     "name": "stdout",
     "output_type": "stream",
     "text": [
      "-- This parrot wouldn't JUMP if you put A MILLION volts through it.\n",
      "-- Lovely plumage, the Norwegian Blue\n",
      "-- It's BEREFT OF LIFE !\n"
     ]
    }
   ],
   "source": [
    "parrot(\"A MILLION\", \"BEREFT OF LIFE\", \"JUMP\")"
   ]
  },
  {
   "cell_type": "code",
   "execution_count": 184,
   "id": "f26a77c1",
   "metadata": {
    "ExecuteTime": {
     "end_time": "2023-11-13T19:45:27.461966Z",
     "start_time": "2023-11-13T19:45:27.416426Z"
    }
   },
   "outputs": [
    {
     "ename": "TypeError",
     "evalue": "parrot() missing 1 required positional argument: 'voltage'",
     "output_type": "error",
     "traceback": [
      "\u001b[1;31m---------------------------------------------------------------------------\u001b[0m",
      "\u001b[1;31mTypeError\u001b[0m                                 Traceback (most recent call last)",
      "Cell \u001b[1;32mIn[184], line 1\u001b[0m\n\u001b[1;32m----> 1\u001b[0m \u001b[43mparrot\u001b[49m\u001b[43m(\u001b[49m\u001b[43m)\u001b[49m\n",
      "\u001b[1;31mTypeError\u001b[0m: parrot() missing 1 required positional argument: 'voltage'"
     ]
    }
   ],
   "source": [
    "parrot() "
   ]
  },
  {
   "cell_type": "code",
   "execution_count": null,
   "id": "bf662f18",
   "metadata": {
    "ExecuteTime": {
     "end_time": "2023-11-13T16:31:38.281336Z",
     "start_time": "2023-11-13T16:31:38.263463Z"
    }
   },
   "outputs": [],
   "source": []
  },
  {
   "cell_type": "code",
   "execution_count": null,
   "id": "f26089fe",
   "metadata": {
    "ExecuteTime": {
     "end_time": "2023-11-13T16:31:45.698381Z",
     "start_time": "2023-11-13T16:31:45.681286Z"
    }
   },
   "outputs": [],
   "source": []
  },
  {
   "cell_type": "code",
   "execution_count": 185,
   "id": "65e535be",
   "metadata": {
    "ExecuteTime": {
     "end_time": "2023-11-13T19:46:17.316902Z",
     "start_time": "2023-11-13T19:46:17.302363Z"
    }
   },
   "outputs": [],
   "source": [
    "def parrot(state='a stiff', action='voom', type='Norwegian Blue'):\n",
    "    print(\"-- This parrot wouldn't\", action, end=' ')\n",
    "    print(\"if you put\", \"volts through it.\")\n",
    "    print(\"-- Lovely plumage, the\", type)\n",
    "    print(\"-- It's\", state, \"!\")"
   ]
  },
  {
   "cell_type": "code",
   "execution_count": 186,
   "id": "29963c1f",
   "metadata": {
    "ExecuteTime": {
     "end_time": "2023-11-13T19:46:24.679840Z",
     "start_time": "2023-11-13T19:46:24.660721Z"
    }
   },
   "outputs": [
    {
     "name": "stdout",
     "output_type": "stream",
     "text": [
      "-- This parrot wouldn't voom if you put volts through it.\n",
      "-- Lovely plumage, the Norwegian Blue\n",
      "-- It's a stiff !\n"
     ]
    }
   ],
   "source": [
    "parrot()"
   ]
  },
  {
   "cell_type": "code",
   "execution_count": null,
   "id": "d586214e",
   "metadata": {
    "ExecuteTime": {
     "end_time": "2023-11-13T16:32:57.896760Z",
     "start_time": "2023-11-13T16:32:57.880760Z"
    }
   },
   "outputs": [],
   "source": [
    "def argu(a, b = \"dünya\", c, d = \"satürn\") :\n",
    "    print(a, b, c, d, sep = \"\\n\")"
   ]
  },
  {
   "cell_type": "code",
   "execution_count": null,
   "id": "8d8b1c0c",
   "metadata": {},
   "outputs": [],
   "source": []
  },
  {
   "cell_type": "code",
   "execution_count": null,
   "id": "32b3ec23",
   "metadata": {},
   "outputs": [],
   "source": []
  },
  {
   "cell_type": "code",
   "execution_count": null,
   "id": "5251f783",
   "metadata": {},
   "outputs": [],
   "source": []
  },
  {
   "attachments": {
    "Metamy%20Logo3.jpg": {
     "image/jpeg": "[encoded data removed]"
    }
   },
   "cell_type": "markdown",
   "id": "61530c66",
   "metadata": {},
   "source": [
    "![Metamy%20Logo3.jpg](attachment:Metamy%20Logo3.jpg)"
   ]
  }
 ],
 "metadata": {
  "hide_input": false,
  "kernelspec": {
   "display_name": "Python 3 (ipykernel)",
   "language": "python",
   "name": "python3"
  },
  "language_info": {
   "codemirror_mode": {
    "name": "ipython",
    "version": 3
   },
   "file_extension": ".py",
   "mimetype": "text/x-python",
   "name": "python",
   "nbconvert_exporter": "python",
   "pygments_lexer": "ipython3",
   "version": "3.10.9"
  },
  "nbTranslate": {
   "displayLangs": [
    "*"
   ],
   "hotkey": "alt-t",
   "langInMainMenu": true,
   "sourceLang": "en",
   "targetLang": "fr",
   "useGoogleTranslate": true
  },
  "toc": {
   "base_numbering": 1,
   "nav_menu": {},
   "number_sections": false,
   "sideBar": true,
   "skip_h1_title": false,
   "title_cell": "Table of Contents",
   "title_sidebar": "Contents",
   "toc_cell": false,
   "toc_position": {},
   "toc_section_display": true,
   "toc_window_display": false
  },
  "varInspector": {
   "cols": {
    "lenName": 16,
    "lenType": 16,
    "lenVar": 40
   },
   "kernels_config": {
    "python": {
     "delete_cmd_postfix": "",
     "delete_cmd_prefix": "del ",
     "library": "var_list.py",
     "varRefreshCmd": "print(var_dic_list())"
    },
    "r": {
     "delete_cmd_postfix": ") ",
     "delete_cmd_prefix": "rm(",
     "library": "var_list.r",
     "varRefreshCmd": "cat(var_dic_list()) "
    }
   },
   "types_to_exclude": [
    "module",
    "function",
    "builtin_function_or_method",
    "instance",
    "_Feature"
   ],
   "window_display": false
  },
  "vp": {
   "vp_config_version": "1.0.0",
   "vp_menu_width": 273,
   "vp_note_display": false,
   "vp_note_width": 0,
   "vp_position": {
    "width": 278
   },
   "vp_section_display": false,
   "vp_signature": "VisualPython"
  }
 },
 "nbformat": 4,
 "nbformat_minor": 5
}
